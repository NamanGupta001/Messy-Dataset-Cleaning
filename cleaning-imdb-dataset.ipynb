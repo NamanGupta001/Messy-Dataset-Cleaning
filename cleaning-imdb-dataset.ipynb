{
 "cells": [
  {
   "cell_type": "code",
   "execution_count": 1,
   "id": "8b4fcb8c",
   "metadata": {
    "_cell_guid": "b1076dfc-b9ad-4769-8c92-a6c4dae69d19",
    "_uuid": "8f2839f25d086af736a60e9eeb907d3b93b6e0e5",
    "execution": {
     "iopub.execute_input": "2022-05-29T07:00:27.058639Z",
     "iopub.status.busy": "2022-05-29T07:00:27.058272Z",
     "iopub.status.idle": "2022-05-29T07:00:27.077331Z",
     "shell.execute_reply": "2022-05-29T07:00:27.076475Z"
    },
    "papermill": {
     "duration": 0.076562,
     "end_time": "2022-05-29T07:00:27.079686",
     "exception": false,
     "start_time": "2022-05-29T07:00:27.003124",
     "status": "completed"
    },
    "tags": []
   },
   "outputs": [
    {
     "name": "stdout",
     "output_type": "stream",
     "text": [
      "/kaggle/input/messy-imdb-dataset/messy_IMDB_dataset.csv\n"
     ]
    }
   ],
   "source": [
    "# This Python 3 environment comes with many helpful analytics libraries installed\n",
    "# It is defined by the kaggle/python Docker image: https://github.com/kaggle/docker-python\n",
    "# For example, here's several helpful packages to load\n",
    "\n",
    "import numpy as np # linear algebra\n",
    "import pandas as pd # data processing, CSV file I/O (e.g. pd.read_csv)\n",
    "\n",
    "# Input data files are available in the read-only \"../input/\" directory\n",
    "# For example, running this (by clicking run or pressing Shift+Enter) will list all files under the input directory\n",
    "\n",
    "import os\n",
    "for dirname, _, filenames in os.walk('/kaggle/input'):\n",
    "    for filename in filenames:\n",
    "        print(os.path.join(dirname, filename))\n",
    "\n",
    "# You can write up to 20GB to the current directory (/kaggle/working/) that gets preserved as output when you create a version using \"Save & Run All\" \n",
    "# You can also write temporary files to /kaggle/temp/, but they won't be saved outside of the current session"
   ]
  },
  {
   "cell_type": "code",
   "execution_count": 2,
   "id": "49ee1c52",
   "metadata": {
    "execution": {
     "iopub.execute_input": "2022-05-29T07:00:27.188102Z",
     "iopub.status.busy": "2022-05-29T07:00:27.187537Z",
     "iopub.status.idle": "2022-05-29T07:00:27.201271Z",
     "shell.execute_reply": "2022-05-29T07:00:27.200628Z"
    },
    "papermill": {
     "duration": 0.068805,
     "end_time": "2022-05-29T07:00:27.203485",
     "exception": false,
     "start_time": "2022-05-29T07:00:27.134680",
     "status": "completed"
    },
    "tags": []
   },
   "outputs": [],
   "source": [
    "df = pd.read_csv('/kaggle/input/messy-imdb-dataset/messy_IMDB_dataset.csv', encoding = \"ISO-8859-1\", delimiter=\";\")"
   ]
  },
  {
   "cell_type": "code",
   "execution_count": 3,
   "id": "f09634d5",
   "metadata": {
    "execution": {
     "iopub.execute_input": "2022-05-29T07:00:27.307632Z",
     "iopub.status.busy": "2022-05-29T07:00:27.306988Z",
     "iopub.status.idle": "2022-05-29T07:00:27.333131Z",
     "shell.execute_reply": "2022-05-29T07:00:27.332453Z"
    },
    "papermill": {
     "duration": 0.07994,
     "end_time": "2022-05-29T07:00:27.334981",
     "exception": false,
     "start_time": "2022-05-29T07:00:27.255041",
     "status": "completed"
    },
    "tags": []
   },
   "outputs": [
    {
     "data": {
      "text/html": [
       "<div>\n",
       "<style scoped>\n",
       "    .dataframe tbody tr th:only-of-type {\n",
       "        vertical-align: middle;\n",
       "    }\n",
       "\n",
       "    .dataframe tbody tr th {\n",
       "        vertical-align: top;\n",
       "    }\n",
       "\n",
       "    .dataframe thead th {\n",
       "        text-align: right;\n",
       "    }\n",
       "</style>\n",
       "<table border=\"1\" class=\"dataframe\">\n",
       "  <thead>\n",
       "    <tr style=\"text-align: right;\">\n",
       "      <th></th>\n",
       "      <th>IMBD title ID</th>\n",
       "      <th>Original titlÊ</th>\n",
       "      <th>Release year</th>\n",
       "      <th>Genrë¨</th>\n",
       "      <th>Duration</th>\n",
       "      <th>Country</th>\n",
       "      <th>Content Rating</th>\n",
       "      <th>Director</th>\n",
       "      <th>Unnamed: 8</th>\n",
       "      <th>Income</th>\n",
       "      <th>Votes</th>\n",
       "      <th>Score</th>\n",
       "    </tr>\n",
       "  </thead>\n",
       "  <tbody>\n",
       "    <tr>\n",
       "      <th>0</th>\n",
       "      <td>tt0111161</td>\n",
       "      <td>The Shawshank Redemption</td>\n",
       "      <td>1995-02-10</td>\n",
       "      <td>Drama</td>\n",
       "      <td>142</td>\n",
       "      <td>USA</td>\n",
       "      <td>R</td>\n",
       "      <td>Frank Darabont</td>\n",
       "      <td>NaN</td>\n",
       "      <td>$ 28815245</td>\n",
       "      <td>2.278.845</td>\n",
       "      <td>9.3</td>\n",
       "    </tr>\n",
       "    <tr>\n",
       "      <th>1</th>\n",
       "      <td>tt0068646</td>\n",
       "      <td>The Godfather</td>\n",
       "      <td>09 21 1972</td>\n",
       "      <td>Crime, Drama</td>\n",
       "      <td>175</td>\n",
       "      <td>USA</td>\n",
       "      <td>R</td>\n",
       "      <td>Francis Ford Coppola</td>\n",
       "      <td>NaN</td>\n",
       "      <td>$ 246120974</td>\n",
       "      <td>1.572.674</td>\n",
       "      <td>9.2</td>\n",
       "    </tr>\n",
       "    <tr>\n",
       "      <th>2</th>\n",
       "      <td>tt0468569</td>\n",
       "      <td>The Dark Knight</td>\n",
       "      <td>23 -07-2008</td>\n",
       "      <td>Action, Crime, Drama</td>\n",
       "      <td>152</td>\n",
       "      <td>US</td>\n",
       "      <td>PG-13</td>\n",
       "      <td>Christopher Nolan</td>\n",
       "      <td>NaN</td>\n",
       "      <td>$ 1005455211</td>\n",
       "      <td>2.241.615</td>\n",
       "      <td>9.</td>\n",
       "    </tr>\n",
       "    <tr>\n",
       "      <th>3</th>\n",
       "      <td>tt0071562</td>\n",
       "      <td>The Godfather: Part II</td>\n",
       "      <td>1975-09-25</td>\n",
       "      <td>Crime, Drama</td>\n",
       "      <td>220</td>\n",
       "      <td>USA</td>\n",
       "      <td>R</td>\n",
       "      <td>Francis Ford Coppola</td>\n",
       "      <td>NaN</td>\n",
       "      <td>$ 4o8,035,783</td>\n",
       "      <td>1.098.714</td>\n",
       "      <td>9,.0</td>\n",
       "    </tr>\n",
       "    <tr>\n",
       "      <th>4</th>\n",
       "      <td>tt0110912</td>\n",
       "      <td>Pulp Fiction</td>\n",
       "      <td>1994-10-28</td>\n",
       "      <td>Crime, Drama</td>\n",
       "      <td></td>\n",
       "      <td>USA</td>\n",
       "      <td>R</td>\n",
       "      <td>Quentin Tarantino</td>\n",
       "      <td>NaN</td>\n",
       "      <td>$ 222831817</td>\n",
       "      <td>1.780.147</td>\n",
       "      <td>8,9f</td>\n",
       "    </tr>\n",
       "  </tbody>\n",
       "</table>\n",
       "</div>"
      ],
      "text/plain": [
       "  IMBD title ID            Original titlÊ  Release year                Genrë¨  \\\n",
       "0     tt0111161  The Shawshank Redemption    1995-02-10                 Drama   \n",
       "1     tt0068646             The Godfather    09 21 1972          Crime, Drama   \n",
       "2     tt0468569           The Dark Knight   23 -07-2008  Action, Crime, Drama   \n",
       "3     tt0071562    The Godfather: Part II    1975-09-25          Crime, Drama   \n",
       "4     tt0110912              Pulp Fiction    1994-10-28          Crime, Drama   \n",
       "\n",
       "  Duration Country Content Rating              Director  Unnamed: 8  \\\n",
       "0      142     USA              R        Frank Darabont         NaN   \n",
       "1      175     USA              R  Francis Ford Coppola         NaN   \n",
       "2      152      US          PG-13     Christopher Nolan         NaN   \n",
       "3      220     USA              R  Francis Ford Coppola         NaN   \n",
       "4              USA              R     Quentin Tarantino         NaN   \n",
       "\n",
       "          Income     Votes  Score  \n",
       "0     $ 28815245  2.278.845   9.3  \n",
       "1    $ 246120974  1.572.674   9.2  \n",
       "2   $ 1005455211  2.241.615    9.  \n",
       "3  $ 4o8,035,783  1.098.714  9,.0  \n",
       "4    $ 222831817  1.780.147  8,9f  "
      ]
     },
     "execution_count": 3,
     "metadata": {},
     "output_type": "execute_result"
    }
   ],
   "source": [
    "df.head()"
   ]
  },
  {
   "cell_type": "markdown",
   "id": "8ff54914",
   "metadata": {
    "papermill": {
     "duration": 0.051434,
     "end_time": "2022-05-29T07:00:27.437728",
     "exception": false,
     "start_time": "2022-05-29T07:00:27.386294",
     "status": "completed"
    },
    "tags": []
   },
   "source": [
    "1. The column names needs to be fixed.\n",
    "2. Release year column has inconsistent format of dates\n",
    "3. In country column, countries like USA has synonyms like US and others are wrongly spelled.\n",
    "4. Undefined columns.\n",
    "5. Removal of special symbols from Income,Votes and Score columns."
   ]
  },
  {
   "cell_type": "code",
   "execution_count": 4,
   "id": "18c2e12d",
   "metadata": {
    "execution": {
     "iopub.execute_input": "2022-05-29T07:00:27.543198Z",
     "iopub.status.busy": "2022-05-29T07:00:27.542666Z",
     "iopub.status.idle": "2022-05-29T07:00:27.547576Z",
     "shell.execute_reply": "2022-05-29T07:00:27.546996Z"
    },
    "papermill": {
     "duration": 0.060022,
     "end_time": "2022-05-29T07:00:27.549348",
     "exception": false,
     "start_time": "2022-05-29T07:00:27.489326",
     "status": "completed"
    },
    "tags": []
   },
   "outputs": [
    {
     "data": {
      "text/plain": [
       "(101, 12)"
      ]
     },
     "execution_count": 4,
     "metadata": {},
     "output_type": "execute_result"
    }
   ],
   "source": [
    "df.shape"
   ]
  },
  {
   "cell_type": "code",
   "execution_count": 5,
   "id": "5d72aec1",
   "metadata": {
    "execution": {
     "iopub.execute_input": "2022-05-29T07:00:27.656180Z",
     "iopub.status.busy": "2022-05-29T07:00:27.655644Z",
     "iopub.status.idle": "2022-05-29T07:00:27.660976Z",
     "shell.execute_reply": "2022-05-29T07:00:27.660349Z"
    },
    "papermill": {
     "duration": 0.060819,
     "end_time": "2022-05-29T07:00:27.662828",
     "exception": false,
     "start_time": "2022-05-29T07:00:27.602009",
     "status": "completed"
    },
    "tags": []
   },
   "outputs": [
    {
     "data": {
      "text/plain": [
       "Index(['IMBD title ID', 'Original titlÊ', 'Release year', 'Genrë¨', 'Duration',\n",
       "       'Country', 'Content Rating', 'Director', 'Unnamed: 8', 'Income',\n",
       "       ' Votes ', 'Score'],\n",
       "      dtype='object')"
      ]
     },
     "execution_count": 5,
     "metadata": {},
     "output_type": "execute_result"
    }
   ],
   "source": [
    "df.columns"
   ]
  },
  {
   "cell_type": "markdown",
   "id": "ed8ccad5",
   "metadata": {
    "papermill": {
     "duration": 0.052169,
     "end_time": "2022-05-29T07:00:27.768080",
     "exception": false,
     "start_time": "2022-05-29T07:00:27.715911",
     "status": "completed"
    },
    "tags": []
   },
   "source": [
    "\n"
   ]
  },
  {
   "cell_type": "code",
   "execution_count": 6,
   "id": "eeaab81e",
   "metadata": {
    "execution": {
     "iopub.execute_input": "2022-05-29T07:00:27.876161Z",
     "iopub.status.busy": "2022-05-29T07:00:27.875855Z",
     "iopub.status.idle": "2022-05-29T07:00:27.884558Z",
     "shell.execute_reply": "2022-05-29T07:00:27.883808Z"
    },
    "papermill": {
     "duration": 0.065728,
     "end_time": "2022-05-29T07:00:27.886694",
     "exception": false,
     "start_time": "2022-05-29T07:00:27.820966",
     "status": "completed"
    },
    "tags": []
   },
   "outputs": [],
   "source": [
    "#Renaming columns to represent proper attribute names\n",
    "columns_mapping = {df.columns[1]:\"original title\",df.columns[3]:\"genre\",df.columns[8]:\"unknown\",df.columns[10]:df.columns[10].strip()}\n",
    "renamedf = df.rename(columns=columns_mapping)"
   ]
  },
  {
   "cell_type": "markdown",
   "id": "5bc7c0d8",
   "metadata": {
    "papermill": {
     "duration": 0.052276,
     "end_time": "2022-05-29T07:00:27.991719",
     "exception": false,
     "start_time": "2022-05-29T07:00:27.939443",
     "status": "completed"
    },
    "tags": []
   },
   "source": []
  },
  {
   "cell_type": "code",
   "execution_count": 7,
   "id": "42e7122e",
   "metadata": {
    "execution": {
     "iopub.execute_input": "2022-05-29T07:00:28.100187Z",
     "iopub.status.busy": "2022-05-29T07:00:28.099410Z",
     "iopub.status.idle": "2022-05-29T07:00:28.105918Z",
     "shell.execute_reply": "2022-05-29T07:00:28.105110Z"
    },
    "papermill": {
     "duration": 0.062261,
     "end_time": "2022-05-29T07:00:28.107916",
     "exception": false,
     "start_time": "2022-05-29T07:00:28.045655",
     "status": "completed"
    },
    "tags": []
   },
   "outputs": [
    {
     "data": {
      "text/plain": [
       "Index(['IMBD title ID', 'original title', 'Release year', 'genre', 'Duration',\n",
       "       'Country', 'Content Rating', 'Director', 'unknown', 'Income', 'Votes',\n",
       "       'Score'],\n",
       "      dtype='object')"
      ]
     },
     "execution_count": 7,
     "metadata": {},
     "output_type": "execute_result"
    }
   ],
   "source": [
    "renamedf.columns"
   ]
  },
  {
   "cell_type": "markdown",
   "id": "22ac3a48",
   "metadata": {
    "papermill": {
     "duration": 0.052635,
     "end_time": "2022-05-29T07:00:28.214195",
     "exception": false,
     "start_time": "2022-05-29T07:00:28.161560",
     "status": "completed"
    },
    "tags": []
   },
   "source": []
  },
  {
   "cell_type": "code",
   "execution_count": 8,
   "id": "5bb6422f",
   "metadata": {
    "execution": {
     "iopub.execute_input": "2022-05-29T07:00:28.322498Z",
     "iopub.status.busy": "2022-05-29T07:00:28.322164Z",
     "iopub.status.idle": "2022-05-29T07:00:28.342739Z",
     "shell.execute_reply": "2022-05-29T07:00:28.342147Z"
    },
    "papermill": {
     "duration": 0.077859,
     "end_time": "2022-05-29T07:00:28.344793",
     "exception": false,
     "start_time": "2022-05-29T07:00:28.266934",
     "status": "completed"
    },
    "tags": []
   },
   "outputs": [
    {
     "name": "stdout",
     "output_type": "stream",
     "text": [
      "<class 'pandas.core.frame.DataFrame'>\n",
      "RangeIndex: 101 entries, 0 to 100\n",
      "Data columns (total 12 columns):\n",
      " #   Column          Non-Null Count  Dtype  \n",
      "---  ------          --------------  -----  \n",
      " 0   IMBD title ID   100 non-null    object \n",
      " 1   original title  100 non-null    object \n",
      " 2   Release year    100 non-null    object \n",
      " 3   genre           100 non-null    object \n",
      " 4   Duration        99 non-null     object \n",
      " 5   Country         100 non-null    object \n",
      " 6   Content Rating  77 non-null     object \n",
      " 7   Director        100 non-null    object \n",
      " 8   unknown         0 non-null      float64\n",
      " 9   Income          100 non-null    object \n",
      " 10  Votes           100 non-null    object \n",
      " 11  Score           100 non-null    object \n",
      "dtypes: float64(1), object(11)\n",
      "memory usage: 9.6+ KB\n"
     ]
    }
   ],
   "source": [
    "renamedf.info()"
   ]
  },
  {
   "cell_type": "code",
   "execution_count": 9,
   "id": "19c5c5d3",
   "metadata": {
    "execution": {
     "iopub.execute_input": "2022-05-29T07:00:28.453395Z",
     "iopub.status.busy": "2022-05-29T07:00:28.452625Z",
     "iopub.status.idle": "2022-05-29T07:00:28.457382Z",
     "shell.execute_reply": "2022-05-29T07:00:28.456752Z"
    },
    "papermill": {
     "duration": 0.061169,
     "end_time": "2022-05-29T07:00:28.459319",
     "exception": false,
     "start_time": "2022-05-29T07:00:28.398150",
     "status": "completed"
    },
    "tags": []
   },
   "outputs": [],
   "source": [
    "#Dropping the 'unknown' empty column\n",
    "renamedf.drop('unknown',axis=1,inplace=True)"
   ]
  },
  {
   "cell_type": "code",
   "execution_count": 10,
   "id": "7e61a2ef",
   "metadata": {
    "execution": {
     "iopub.execute_input": "2022-05-29T07:00:28.570984Z",
     "iopub.status.busy": "2022-05-29T07:00:28.570428Z",
     "iopub.status.idle": "2022-05-29T07:00:28.577401Z",
     "shell.execute_reply": "2022-05-29T07:00:28.576330Z"
    },
    "papermill": {
     "duration": 0.066102,
     "end_time": "2022-05-29T07:00:28.579436",
     "exception": false,
     "start_time": "2022-05-29T07:00:28.513334",
     "status": "completed"
    },
    "tags": []
   },
   "outputs": [
    {
     "data": {
      "text/plain": [
       "array(['1995-02-10', '09 21 1972', ' 23 -07-2008', '1975-09-25',\n",
       "       '1994-10-28', '22 Feb 04', '1994-03-11', '1957-09-04',\n",
       "       '2010-09-24', '10-29-99', '1994-10-06', '2002-01-18',\n",
       "       '23rd December of 1966 ', nan, '1999-05-07', '01/16-03',\n",
       "       '1980-09-19', '1990-09-20', '18/11/1976', '2014-11-06',\n",
       "       '1995-12-15', '1991-03-05', '1977-10-20', '1998-10-30',\n",
       "       '2000-10-03', '2003-05-09', '2003-04-18', '1997-12-20',\n",
       "       '2019-11-07', '1948-03-11', '1955-08-19', '2000-05-19',\n",
       "       '2006-10-27', '2006-12-22', '1985-10-18', '1999-08-27',\n",
       "       '1995-04-07', '1991-12-19', '1995-11-30', '1994-11-25',\n",
       "       '2019-10-03', '2012-02-24', '2002-10-25', '2015-02-12',\n",
       "       '1960-10-28', '21-11-46', '1968-12-21', '2015-10-11', '1988-11-17',\n",
       "       '1937-03-12', '2012-08-29', '2013-01-17', '2001-01-19',\n",
       "       '2008-10-17', '1980-12-22', '1981-06-12', '2018-04-25',\n",
       "       '1979-10-25', '2019-04-24', '1979-12-18', '2005-05-06',\n",
       "       '1964-04-03', '1955-04-14', '2017-12-28', '2007-04-06',\n",
       "       '2018-12-25', '2009-12-25', '1984-09-28', '1945-06-25',\n",
       "       'The 6th of marzo, year 1951', '2009-10-02', '2000-01-21',\n",
       "       '1995-12-01', '1983-10-21', '1992-10-09', '2004-10-22',\n",
       "       '1996-03-22', '1998-03-06', '2001-03-16', '2000-12-15',\n",
       "       '1972-09-07', '2010-07-07', '1984-02-34', '1976-13-24',\n",
       "       '2002-01-25', '1987-10-09', '1986-09-24', '1968-12-12',\n",
       "       '1948-11-25', '2020-01-23', '1985-02-15', '1958-11-18',\n",
       "       '1959-10-28', '2012-11-22', '1963-10-29', '1974-03-21',\n",
       "       '1982-03-18', '1965-12-20', '2011-10-21', '1953-02-05'],\n",
       "      dtype=object)"
      ]
     },
     "execution_count": 10,
     "metadata": {},
     "output_type": "execute_result"
    }
   ],
   "source": [
    "#Analzing the Year column values\n",
    "renamedf.iloc[:,2].unique()"
   ]
  },
  {
   "cell_type": "code",
   "execution_count": 11,
   "id": "429cce46",
   "metadata": {
    "execution": {
     "iopub.execute_input": "2022-05-29T07:00:28.687801Z",
     "iopub.status.busy": "2022-05-29T07:00:28.687519Z",
     "iopub.status.idle": "2022-05-29T07:00:28.696106Z",
     "shell.execute_reply": "2022-05-29T07:00:28.695444Z"
    },
    "papermill": {
     "duration": 0.064689,
     "end_time": "2022-05-29T07:00:28.697903",
     "exception": false,
     "start_time": "2022-05-29T07:00:28.633214",
     "status": "completed"
    },
    "tags": []
   },
   "outputs": [],
   "source": [
    "import re\n",
    "import datetime\n",
    "from datetime import datetime\n",
    "\n",
    "#Removes noise from date values and convert to standard datetime strings\n",
    "def formatDates(messyDate):\n",
    "    dateStr = messyDate.strip()\n",
    "    dateStr = re.sub(r'(\\d)(st|nd|rd|th)', r'\\1', dateStr)\n",
    "    dateStr = re.sub(' [a-zA-Z]{2} ',\" \",dateStr)\n",
    "    pattern = '( -|/)|(-|/ )|( -|/ )'\n",
    "   \n",
    "    if re.search(pattern,dateStr):\n",
    "\n",
    "        dateStr=re.sub(pattern=pattern,string=dateStr,repl=\"-\")\n",
    "    \n",
    "    \n",
    "    dateParsers = ('%Y-%m-%d','%d-%m-%Y','%d-%m-%y','%d %b %Y','%d %b %y','%d %B %Y','%m-%d-%y','%m %d %Y')\n",
    "    isValidDate = False\n",
    "    for parser in dateParsers:\n",
    "        try:\n",
    "            dateObj = datetime.strptime(dateStr,parser)\n",
    "            \n",
    "            dateStr = dateObj.date()   \n",
    "            isValidDate = True\n",
    "        except Exception as e:\n",
    "            pass\n",
    "            \n",
    "    if isValidDate:\n",
    "        return  dateStr\n",
    "    else:\n",
    "        #Dates which dosent lie in the above mentioned date formats(dateParsers) will not be considered\n",
    "        return None\n",
    "        \n",
    "    "
   ]
  },
  {
   "cell_type": "code",
   "execution_count": 12,
   "id": "baf20358",
   "metadata": {
    "execution": {
     "iopub.execute_input": "2022-05-29T07:00:28.809909Z",
     "iopub.status.busy": "2022-05-29T07:00:28.809291Z",
     "iopub.status.idle": "2022-05-29T07:00:28.824311Z",
     "shell.execute_reply": "2022-05-29T07:00:28.823637Z"
    },
    "papermill": {
     "duration": 0.073487,
     "end_time": "2022-05-29T07:00:28.826478",
     "exception": false,
     "start_time": "2022-05-29T07:00:28.752991",
     "status": "completed"
    },
    "tags": []
   },
   "outputs": [],
   "source": [
    "renamedf.iloc[:,2] = renamedf.iloc[:,2].map(formatDates,na_action='ignore')\n"
   ]
  },
  {
   "cell_type": "code",
   "execution_count": 13,
   "id": "64186f38",
   "metadata": {
    "execution": {
     "iopub.execute_input": "2022-05-29T07:00:28.936605Z",
     "iopub.status.busy": "2022-05-29T07:00:28.936243Z",
     "iopub.status.idle": "2022-05-29T07:00:28.943002Z",
     "shell.execute_reply": "2022-05-29T07:00:28.942384Z"
    },
    "papermill": {
     "duration": 0.063949,
     "end_time": "2022-05-29T07:00:28.944746",
     "exception": false,
     "start_time": "2022-05-29T07:00:28.880797",
     "status": "completed"
    },
    "tags": []
   },
   "outputs": [
    {
     "data": {
      "text/plain": [
       "array([datetime.date(1995, 2, 10), datetime.date(1972, 9, 21),\n",
       "       datetime.date(2008, 7, 23), datetime.date(1975, 9, 25),\n",
       "       datetime.date(1994, 10, 28), datetime.date(2004, 2, 22),\n",
       "       datetime.date(1994, 3, 11), datetime.date(1957, 9, 4),\n",
       "       datetime.date(2010, 9, 24), datetime.date(1999, 10, 29),\n",
       "       datetime.date(1994, 10, 6), datetime.date(2002, 1, 18),\n",
       "       datetime.date(1966, 12, 23), nan, datetime.date(1999, 5, 7),\n",
       "       datetime.date(2003, 1, 16), datetime.date(1980, 9, 19),\n",
       "       datetime.date(1990, 9, 20), datetime.date(1976, 11, 18),\n",
       "       datetime.date(2014, 11, 6), datetime.date(1995, 12, 15),\n",
       "       datetime.date(1991, 3, 5), datetime.date(1977, 10, 20),\n",
       "       datetime.date(1998, 10, 30), datetime.date(2000, 10, 3),\n",
       "       datetime.date(2003, 5, 9), datetime.date(2003, 4, 18),\n",
       "       datetime.date(1997, 12, 20), datetime.date(2019, 11, 7),\n",
       "       datetime.date(1948, 3, 11), datetime.date(1955, 8, 19),\n",
       "       datetime.date(2000, 5, 19), datetime.date(2006, 10, 27),\n",
       "       datetime.date(2006, 12, 22), datetime.date(1985, 10, 18),\n",
       "       datetime.date(1999, 8, 27), datetime.date(1995, 4, 7),\n",
       "       datetime.date(1991, 12, 19), datetime.date(1995, 11, 30),\n",
       "       datetime.date(1994, 11, 25), datetime.date(2019, 10, 3),\n",
       "       datetime.date(2012, 2, 24), datetime.date(2002, 10, 25),\n",
       "       datetime.date(2015, 2, 12), datetime.date(1960, 10, 28),\n",
       "       datetime.date(2046, 11, 21), datetime.date(1968, 12, 21),\n",
       "       datetime.date(2015, 10, 11), datetime.date(1988, 11, 17),\n",
       "       datetime.date(1937, 3, 12), datetime.date(2012, 8, 29),\n",
       "       datetime.date(2013, 1, 17), datetime.date(2001, 1, 19),\n",
       "       datetime.date(2008, 10, 17), datetime.date(1980, 12, 22),\n",
       "       datetime.date(1981, 6, 12), datetime.date(2018, 4, 25),\n",
       "       datetime.date(1979, 10, 25), datetime.date(2019, 4, 24),\n",
       "       datetime.date(1979, 12, 18), datetime.date(2005, 5, 6),\n",
       "       datetime.date(1964, 4, 3), datetime.date(1955, 4, 14),\n",
       "       datetime.date(2017, 12, 28), datetime.date(2007, 4, 6),\n",
       "       datetime.date(2018, 12, 25), datetime.date(2009, 12, 25),\n",
       "       datetime.date(1984, 9, 28), datetime.date(1945, 6, 25), None,\n",
       "       datetime.date(2009, 10, 2), datetime.date(2000, 1, 21),\n",
       "       datetime.date(1995, 12, 1), datetime.date(1983, 10, 21),\n",
       "       datetime.date(1992, 10, 9), datetime.date(2004, 10, 22),\n",
       "       datetime.date(1996, 3, 22), datetime.date(1998, 3, 6),\n",
       "       datetime.date(2001, 3, 16), datetime.date(2000, 12, 15),\n",
       "       datetime.date(1972, 9, 7), datetime.date(2010, 7, 7),\n",
       "       datetime.date(2002, 1, 25), datetime.date(1987, 10, 9),\n",
       "       datetime.date(1986, 9, 24), datetime.date(1968, 12, 12),\n",
       "       datetime.date(1948, 11, 25), datetime.date(2020, 1, 23),\n",
       "       datetime.date(1985, 2, 15), datetime.date(1958, 11, 18),\n",
       "       datetime.date(1959, 10, 28), datetime.date(2012, 11, 22),\n",
       "       datetime.date(1963, 10, 29), datetime.date(1974, 3, 21),\n",
       "       datetime.date(1982, 3, 18), datetime.date(1965, 12, 20),\n",
       "       datetime.date(2011, 10, 21), datetime.date(1953, 2, 5)],\n",
       "      dtype=object)"
      ]
     },
     "execution_count": 13,
     "metadata": {},
     "output_type": "execute_result"
    }
   ],
   "source": [
    "renamedf.iloc[:,2].unique()"
   ]
  },
  {
   "cell_type": "code",
   "execution_count": null,
   "id": "89d64355",
   "metadata": {
    "papermill": {
     "duration": 0.055013,
     "end_time": "2022-05-29T07:00:29.054604",
     "exception": false,
     "start_time": "2022-05-29T07:00:28.999591",
     "status": "completed"
    },
    "tags": []
   },
   "outputs": [],
   "source": [
    "\n",
    "    \n",
    "    "
   ]
  },
  {
   "cell_type": "code",
   "execution_count": 14,
   "id": "2ee004ee",
   "metadata": {
    "execution": {
     "iopub.execute_input": "2022-05-29T07:00:29.164701Z",
     "iopub.status.busy": "2022-05-29T07:00:29.164196Z",
     "iopub.status.idle": "2022-05-29T07:00:29.170285Z",
     "shell.execute_reply": "2022-05-29T07:00:29.169713Z"
    },
    "papermill": {
     "duration": 0.0634,
     "end_time": "2022-05-29T07:00:29.172037",
     "exception": false,
     "start_time": "2022-05-29T07:00:29.108637",
     "status": "completed"
    },
    "tags": []
   },
   "outputs": [
    {
     "data": {
      "text/plain": [
       "array(['Drama', 'Crime, Drama', 'Action, Crime, Drama',\n",
       "       'Action, Adventure, Drama', 'Biography, Drama, History',\n",
       "       'Action, Adventure, Sci-Fi', 'Drama, Romance', 'Western', nan,\n",
       "       'Action, Sci-Fi', 'Action, Adventure, Fantasy',\n",
       "       'Biography, Crime, Drama', 'Adventure, Drama, Sci-Fi',\n",
       "       'Crime, Drama, Mystery', 'Crime, Drama, Thriller', 'Drama, War',\n",
       "       'Crime, Drama, Fantasy', 'Animation, Adventure, Family',\n",
       "       'Comedy, Drama, Romance', 'Comedy, Drama, Thriller',\n",
       "       'Drama, Family, Fantasy', 'Drama, Mystery, Sci-Fi',\n",
       "       'Adventure, Comedy, Sci-Fi', 'Crime, Mystery, Thriller',\n",
       "       'Animation, Adventure, Drama', 'Biography, Comedy, Drama',\n",
       "       'Biography, Drama, Music', 'Drama, Music',\n",
       "       'Horror, Mystery, Thriller', 'Drama, Romance, War',\n",
       "       'Animation, Drama, War', 'Comedy, Drama, Family',\n",
       "       'Action, Adventure', 'Drama, Western', 'Mystery, Thriller',\n",
       "       'Drama, Horror', 'Horror, Sci-Fi', 'Drama, Mystery, War',\n",
       "       'Action, Drama, Mystery', 'Comedy', 'Drama, Mystery, Thriller',\n",
       "       'Animation, Action, Adventure', 'Comedy, Drama',\n",
       "       'Animation, Adventure, Fantasy', 'Comedy, Drama, War',\n",
       "       'Drama, Film-Noir', 'Adventure, Drama, War',\n",
       "       'Drama, Romance, Sci-Fi', 'Animation, Adventure, Comedy',\n",
       "       'Comedy, Crime', 'Crime, Drama, Sci-Fi', 'Comedy, Romance',\n",
       "       'Adventure, Sci-Fi', 'Drama, Mystery',\n",
       "       'Mystery, Romance, Thriller', 'Adventure, Mystery, Thriller',\n",
       "       'Adventure, Biography, Drama', 'Comedy, Crime, Drama',\n",
       "       'Adventure, Drama, Thriller', 'Comedy, Musical, Romance'],\n",
       "      dtype=object)"
      ]
     },
     "execution_count": 14,
     "metadata": {},
     "output_type": "execute_result"
    }
   ],
   "source": [
    "#Analyzing genre column\n",
    "renamedf['genre'].unique()"
   ]
  },
  {
   "cell_type": "markdown",
   "id": "939a8ed2",
   "metadata": {
    "papermill": {
     "duration": 0.054688,
     "end_time": "2022-05-29T07:00:29.280923",
     "exception": false,
     "start_time": "2022-05-29T07:00:29.226235",
     "status": "completed"
    },
    "tags": []
   },
   "source": [
    "Genre attribute can have multiple genre for each entry, so we'll convert the multivalue genre column into multiple columns having unique genre "
   ]
  },
  {
   "cell_type": "code",
   "execution_count": 15,
   "id": "14d65ea4",
   "metadata": {
    "execution": {
     "iopub.execute_input": "2022-05-29T07:00:29.391798Z",
     "iopub.status.busy": "2022-05-29T07:00:29.391303Z",
     "iopub.status.idle": "2022-05-29T07:00:29.396319Z",
     "shell.execute_reply": "2022-05-29T07:00:29.395762Z"
    },
    "papermill": {
     "duration": 0.062921,
     "end_time": "2022-05-29T07:00:29.398315",
     "exception": false,
     "start_time": "2022-05-29T07:00:29.335394",
     "status": "completed"
    },
    "tags": []
   },
   "outputs": [],
   "source": [
    "import re\n",
    "#cleaning the genre values\n",
    "renamedf.genre = renamedf.genre.apply(lambda multigenre:re.sub(pattern=' ',repl=\"\",string=str(multigenre)))"
   ]
  },
  {
   "cell_type": "code",
   "execution_count": 16,
   "id": "88570590",
   "metadata": {
    "execution": {
     "iopub.execute_input": "2022-05-29T07:00:29.509099Z",
     "iopub.status.busy": "2022-05-29T07:00:29.508608Z",
     "iopub.status.idle": "2022-05-29T07:00:29.514989Z",
     "shell.execute_reply": "2022-05-29T07:00:29.514401Z"
    },
    "papermill": {
     "duration": 0.063988,
     "end_time": "2022-05-29T07:00:29.516950",
     "exception": false,
     "start_time": "2022-05-29T07:00:29.452962",
     "status": "completed"
    },
    "tags": []
   },
   "outputs": [],
   "source": [
    "#One hot encoding the features\n",
    "genredf=renamedf.genre.str.get_dummies(',')"
   ]
  },
  {
   "cell_type": "code",
   "execution_count": 17,
   "id": "08c2f43f",
   "metadata": {
    "execution": {
     "iopub.execute_input": "2022-05-29T07:00:29.629053Z",
     "iopub.status.busy": "2022-05-29T07:00:29.628572Z",
     "iopub.status.idle": "2022-05-29T07:00:29.638803Z",
     "shell.execute_reply": "2022-05-29T07:00:29.637852Z"
    },
    "papermill": {
     "duration": 0.069031,
     "end_time": "2022-05-29T07:00:29.641181",
     "exception": false,
     "start_time": "2022-05-29T07:00:29.572150",
     "status": "completed"
    },
    "tags": []
   },
   "outputs": [],
   "source": [
    "\n",
    "mergeddf = pd.concat([renamedf,genredf],axis=1)\n",
    "mergeddf.drop('genre',inplace=True,axis=1)"
   ]
  },
  {
   "cell_type": "code",
   "execution_count": 18,
   "id": "20833ec2",
   "metadata": {
    "execution": {
     "iopub.execute_input": "2022-05-29T07:00:29.752073Z",
     "iopub.status.busy": "2022-05-29T07:00:29.751544Z",
     "iopub.status.idle": "2022-05-29T07:00:29.770788Z",
     "shell.execute_reply": "2022-05-29T07:00:29.769966Z"
    },
    "papermill": {
     "duration": 0.077066,
     "end_time": "2022-05-29T07:00:29.772838",
     "exception": false,
     "start_time": "2022-05-29T07:00:29.695772",
     "status": "completed"
    },
    "tags": []
   },
   "outputs": [
    {
     "data": {
      "text/html": [
       "<div>\n",
       "<style scoped>\n",
       "    .dataframe tbody tr th:only-of-type {\n",
       "        vertical-align: middle;\n",
       "    }\n",
       "\n",
       "    .dataframe tbody tr th {\n",
       "        vertical-align: top;\n",
       "    }\n",
       "\n",
       "    .dataframe thead th {\n",
       "        text-align: right;\n",
       "    }\n",
       "</style>\n",
       "<table border=\"1\" class=\"dataframe\">\n",
       "  <thead>\n",
       "    <tr style=\"text-align: right;\">\n",
       "      <th></th>\n",
       "      <th>IMBD title ID</th>\n",
       "      <th>original title</th>\n",
       "      <th>Release year</th>\n",
       "      <th>Duration</th>\n",
       "      <th>Country</th>\n",
       "      <th>Content Rating</th>\n",
       "      <th>Director</th>\n",
       "      <th>Income</th>\n",
       "      <th>Votes</th>\n",
       "      <th>Score</th>\n",
       "      <th>...</th>\n",
       "      <th>Horror</th>\n",
       "      <th>Music</th>\n",
       "      <th>Musical</th>\n",
       "      <th>Mystery</th>\n",
       "      <th>Romance</th>\n",
       "      <th>Sci-Fi</th>\n",
       "      <th>Thriller</th>\n",
       "      <th>War</th>\n",
       "      <th>Western</th>\n",
       "      <th>nan</th>\n",
       "    </tr>\n",
       "  </thead>\n",
       "  <tbody>\n",
       "    <tr>\n",
       "      <th>0</th>\n",
       "      <td>tt0111161</td>\n",
       "      <td>The Shawshank Redemption</td>\n",
       "      <td>1995-02-10</td>\n",
       "      <td>142</td>\n",
       "      <td>USA</td>\n",
       "      <td>R</td>\n",
       "      <td>Frank Darabont</td>\n",
       "      <td>$ 28815245</td>\n",
       "      <td>2.278.845</td>\n",
       "      <td>9.3</td>\n",
       "      <td>...</td>\n",
       "      <td>0</td>\n",
       "      <td>0</td>\n",
       "      <td>0</td>\n",
       "      <td>0</td>\n",
       "      <td>0</td>\n",
       "      <td>0</td>\n",
       "      <td>0</td>\n",
       "      <td>0</td>\n",
       "      <td>0</td>\n",
       "      <td>0</td>\n",
       "    </tr>\n",
       "    <tr>\n",
       "      <th>1</th>\n",
       "      <td>tt0068646</td>\n",
       "      <td>The Godfather</td>\n",
       "      <td>1972-09-21</td>\n",
       "      <td>175</td>\n",
       "      <td>USA</td>\n",
       "      <td>R</td>\n",
       "      <td>Francis Ford Coppola</td>\n",
       "      <td>$ 246120974</td>\n",
       "      <td>1.572.674</td>\n",
       "      <td>9.2</td>\n",
       "      <td>...</td>\n",
       "      <td>0</td>\n",
       "      <td>0</td>\n",
       "      <td>0</td>\n",
       "      <td>0</td>\n",
       "      <td>0</td>\n",
       "      <td>0</td>\n",
       "      <td>0</td>\n",
       "      <td>0</td>\n",
       "      <td>0</td>\n",
       "      <td>0</td>\n",
       "    </tr>\n",
       "    <tr>\n",
       "      <th>2</th>\n",
       "      <td>tt0468569</td>\n",
       "      <td>The Dark Knight</td>\n",
       "      <td>2008-07-23</td>\n",
       "      <td>152</td>\n",
       "      <td>US</td>\n",
       "      <td>PG-13</td>\n",
       "      <td>Christopher Nolan</td>\n",
       "      <td>$ 1005455211</td>\n",
       "      <td>2.241.615</td>\n",
       "      <td>9.</td>\n",
       "      <td>...</td>\n",
       "      <td>0</td>\n",
       "      <td>0</td>\n",
       "      <td>0</td>\n",
       "      <td>0</td>\n",
       "      <td>0</td>\n",
       "      <td>0</td>\n",
       "      <td>0</td>\n",
       "      <td>0</td>\n",
       "      <td>0</td>\n",
       "      <td>0</td>\n",
       "    </tr>\n",
       "    <tr>\n",
       "      <th>3</th>\n",
       "      <td>tt0071562</td>\n",
       "      <td>The Godfather: Part II</td>\n",
       "      <td>1975-09-25</td>\n",
       "      <td>220</td>\n",
       "      <td>USA</td>\n",
       "      <td>R</td>\n",
       "      <td>Francis Ford Coppola</td>\n",
       "      <td>$ 4o8,035,783</td>\n",
       "      <td>1.098.714</td>\n",
       "      <td>9,.0</td>\n",
       "      <td>...</td>\n",
       "      <td>0</td>\n",
       "      <td>0</td>\n",
       "      <td>0</td>\n",
       "      <td>0</td>\n",
       "      <td>0</td>\n",
       "      <td>0</td>\n",
       "      <td>0</td>\n",
       "      <td>0</td>\n",
       "      <td>0</td>\n",
       "      <td>0</td>\n",
       "    </tr>\n",
       "    <tr>\n",
       "      <th>4</th>\n",
       "      <td>tt0110912</td>\n",
       "      <td>Pulp Fiction</td>\n",
       "      <td>1994-10-28</td>\n",
       "      <td></td>\n",
       "      <td>USA</td>\n",
       "      <td>R</td>\n",
       "      <td>Quentin Tarantino</td>\n",
       "      <td>$ 222831817</td>\n",
       "      <td>1.780.147</td>\n",
       "      <td>8,9f</td>\n",
       "      <td>...</td>\n",
       "      <td>0</td>\n",
       "      <td>0</td>\n",
       "      <td>0</td>\n",
       "      <td>0</td>\n",
       "      <td>0</td>\n",
       "      <td>0</td>\n",
       "      <td>0</td>\n",
       "      <td>0</td>\n",
       "      <td>0</td>\n",
       "      <td>0</td>\n",
       "    </tr>\n",
       "  </tbody>\n",
       "</table>\n",
       "<p>5 rows × 31 columns</p>\n",
       "</div>"
      ],
      "text/plain": [
       "  IMBD title ID            original title Release year Duration Country  \\\n",
       "0     tt0111161  The Shawshank Redemption   1995-02-10      142     USA   \n",
       "1     tt0068646             The Godfather   1972-09-21      175     USA   \n",
       "2     tt0468569           The Dark Knight   2008-07-23      152      US   \n",
       "3     tt0071562    The Godfather: Part II   1975-09-25      220     USA   \n",
       "4     tt0110912              Pulp Fiction   1994-10-28              USA   \n",
       "\n",
       "  Content Rating              Director         Income      Votes Score  ...  \\\n",
       "0              R        Frank Darabont     $ 28815245  2.278.845   9.3  ...   \n",
       "1              R  Francis Ford Coppola    $ 246120974  1.572.674   9.2  ...   \n",
       "2          PG-13     Christopher Nolan   $ 1005455211  2.241.615    9.  ...   \n",
       "3              R  Francis Ford Coppola  $ 4o8,035,783  1.098.714  9,.0  ...   \n",
       "4              R     Quentin Tarantino    $ 222831817  1.780.147  8,9f  ...   \n",
       "\n",
       "   Horror  Music  Musical  Mystery  Romance  Sci-Fi  Thriller  War  Western  \\\n",
       "0       0      0        0        0        0       0         0    0        0   \n",
       "1       0      0        0        0        0       0         0    0        0   \n",
       "2       0      0        0        0        0       0         0    0        0   \n",
       "3       0      0        0        0        0       0         0    0        0   \n",
       "4       0      0        0        0        0       0         0    0        0   \n",
       "\n",
       "   nan  \n",
       "0    0  \n",
       "1    0  \n",
       "2    0  \n",
       "3    0  \n",
       "4    0  \n",
       "\n",
       "[5 rows x 31 columns]"
      ]
     },
     "execution_count": 18,
     "metadata": {},
     "output_type": "execute_result"
    }
   ],
   "source": [
    "mergeddf.head()"
   ]
  },
  {
   "cell_type": "markdown",
   "id": "e1862358",
   "metadata": {
    "papermill": {
     "duration": 0.05494,
     "end_time": "2022-05-29T07:00:29.883860",
     "exception": false,
     "start_time": "2022-05-29T07:00:29.828920",
     "status": "completed"
    },
    "tags": []
   },
   "source": []
  },
  {
   "cell_type": "code",
   "execution_count": 19,
   "id": "04371243",
   "metadata": {
    "execution": {
     "iopub.execute_input": "2022-05-29T07:00:29.995654Z",
     "iopub.status.busy": "2022-05-29T07:00:29.995371Z",
     "iopub.status.idle": "2022-05-29T07:00:30.001070Z",
     "shell.execute_reply": "2022-05-29T07:00:30.000519Z"
    },
    "papermill": {
     "duration": 0.064291,
     "end_time": "2022-05-29T07:00:30.003167",
     "exception": false,
     "start_time": "2022-05-29T07:00:29.938876",
     "status": "completed"
    },
    "tags": []
   },
   "outputs": [
    {
     "data": {
      "text/plain": [
       "array(['USA', 'US', 'New Zealand', 'UK', 'New Zesland', 'Italy', nan,\n",
       "       'New Zeland', 'US.', 'Brazil', 'Japan', 'Italy1', 'South Korea',\n",
       "       'France', 'Germany', 'India', 'Denmark', 'West Germany', 'Iran'],\n",
       "      dtype=object)"
      ]
     },
     "execution_count": 19,
     "metadata": {},
     "output_type": "execute_result"
    }
   ],
   "source": [
    "mergeddf.Country.unique()"
   ]
  },
  {
   "cell_type": "markdown",
   "id": "4d6cc0ec",
   "metadata": {
    "papermill": {
     "duration": 0.055462,
     "end_time": "2022-05-29T07:00:30.114726",
     "exception": false,
     "start_time": "2022-05-29T07:00:30.059264",
     "status": "completed"
    },
    "tags": []
   },
   "source": [
    "Country names cant have digits and special characters in them.Hence we'll remove it"
   ]
  },
  {
   "cell_type": "code",
   "execution_count": 20,
   "id": "a392f4d6",
   "metadata": {
    "execution": {
     "iopub.execute_input": "2022-05-29T07:00:30.230128Z",
     "iopub.status.busy": "2022-05-29T07:00:30.229808Z",
     "iopub.status.idle": "2022-05-29T07:00:30.235494Z",
     "shell.execute_reply": "2022-05-29T07:00:30.234534Z"
    },
    "papermill": {
     "duration": 0.06527,
     "end_time": "2022-05-29T07:00:30.237569",
     "exception": false,
     "start_time": "2022-05-29T07:00:30.172299",
     "status": "completed"
    },
    "tags": []
   },
   "outputs": [],
   "source": [
    "mergeddf.Country = mergeddf.Country.map(lambda x:re.sub('[^a-z-A-Z\\s]',\"\",x),na_action='ignore')"
   ]
  },
  {
   "cell_type": "markdown",
   "id": "a00b1bec",
   "metadata": {
    "papermill": {
     "duration": 0.059622,
     "end_time": "2022-05-29T07:00:30.366043",
     "exception": false,
     "start_time": "2022-05-29T07:00:30.306421",
     "status": "completed"
    },
    "tags": []
   },
   "source": [
    "Some countries have have slight inaccuracies in their names (For ex. USA,US etc.)"
   ]
  },
  {
   "cell_type": "code",
   "execution_count": 21,
   "id": "30610510",
   "metadata": {
    "execution": {
     "iopub.execute_input": "2022-05-29T07:00:30.479672Z",
     "iopub.status.busy": "2022-05-29T07:00:30.479347Z",
     "iopub.status.idle": "2022-05-29T07:00:30.509411Z",
     "shell.execute_reply": "2022-05-29T07:00:30.508753Z"
    },
    "papermill": {
     "duration": 0.089632,
     "end_time": "2022-05-29T07:00:30.511679",
     "exception": false,
     "start_time": "2022-05-29T07:00:30.422047",
     "status": "completed"
    },
    "tags": []
   },
   "outputs": [],
   "source": [
    "from difflib import SequenceMatcher\n",
    "\n",
    "#let's specify correct names\n",
    "correct_names = {'USA','New Zealand','UK','Italy','South Korea','France','Iran','Germany','Denmark','India','Brazil','Japan'\n",
    "                }\n",
    "\n",
    "#This function will find the best match for a country name having errors in their names\n",
    "def get_most_similar(word,wordlist):\n",
    "    top_similarity = 0.0\n",
    "    most_similar_word = word\n",
    "    for candidate in wordlist:\n",
    "        similarity = SequenceMatcher(None,word,candidate).ratio()\n",
    "        if similarity > top_similarity:\n",
    "                \n",
    "            top_similarity = similarity\n",
    "            most_similar_word = candidate\n",
    "    return most_similar_word\n",
    "\n",
    "#Applying this function over 'country' column in dataframe\n",
    "mergeddf.Country = mergeddf.Country.map(lambda x: get_most_similar(x,correct_names),na_action='ignore')"
   ]
  },
  {
   "cell_type": "code",
   "execution_count": 22,
   "id": "e1acea60",
   "metadata": {
    "execution": {
     "iopub.execute_input": "2022-05-29T07:00:30.625801Z",
     "iopub.status.busy": "2022-05-29T07:00:30.625077Z",
     "iopub.status.idle": "2022-05-29T07:00:30.631809Z",
     "shell.execute_reply": "2022-05-29T07:00:30.631259Z"
    },
    "papermill": {
     "duration": 0.066418,
     "end_time": "2022-05-29T07:00:30.633640",
     "exception": false,
     "start_time": "2022-05-29T07:00:30.567222",
     "status": "completed"
    },
    "tags": []
   },
   "outputs": [
    {
     "data": {
      "text/plain": [
       "USA            64\n",
       "UK             12\n",
       "Italy           5\n",
       "Japan           4\n",
       "New Zealand     3\n",
       "France          3\n",
       "Germany         3\n",
       "South Korea     2\n",
       "Brazil          1\n",
       "India           1\n",
       "Denmark         1\n",
       "Iran            1\n",
       "Name: Country, dtype: int64"
      ]
     },
     "execution_count": 22,
     "metadata": {},
     "output_type": "execute_result"
    }
   ],
   "source": [
    "mergeddf.Country.value_counts()"
   ]
  },
  {
   "cell_type": "code",
   "execution_count": 23,
   "id": "3b3d788c",
   "metadata": {
    "execution": {
     "iopub.execute_input": "2022-05-29T07:00:30.746941Z",
     "iopub.status.busy": "2022-05-29T07:00:30.746391Z",
     "iopub.status.idle": "2022-05-29T07:00:30.751913Z",
     "shell.execute_reply": "2022-05-29T07:00:30.751335Z"
    },
    "papermill": {
     "duration": 0.06476,
     "end_time": "2022-05-29T07:00:30.753858",
     "exception": false,
     "start_time": "2022-05-29T07:00:30.689098",
     "status": "completed"
    },
    "tags": []
   },
   "outputs": [
    {
     "data": {
      "text/plain": [
       "array(['142', '175', '152', '220', ' ', '201', 'Nan', '96', '148', 'Inf',\n",
       "       '178c', '161', nan, '179', 'Not Applicable', '146', '-', '169',\n",
       "       '127', '118', '121', '189', '130', '125', '116', '132', '207',\n",
       "       '155', '151', '119', '110', '137', '106', '88', '122', '112',\n",
       "       '150', '109', '102', '165', '89', '87', '164', '113', '98', '115',\n",
       "       '149', '117', '181', '147', '120', '95', '105', '170', '134',\n",
       "       '229', '153', '178', '131', '99', '108', '81', '126', '104', '136',\n",
       "       '103', '114', '160', '128', '228', '129', '123'], dtype=object)"
      ]
     },
     "execution_count": 23,
     "metadata": {},
     "output_type": "execute_result"
    }
   ],
   "source": [
    "mergeddf.Duration.unique()"
   ]
  },
  {
   "cell_type": "code",
   "execution_count": 24,
   "id": "1e34e646",
   "metadata": {
    "execution": {
     "iopub.execute_input": "2022-05-29T07:00:30.868819Z",
     "iopub.status.busy": "2022-05-29T07:00:30.868288Z",
     "iopub.status.idle": "2022-05-29T07:00:30.872992Z",
     "shell.execute_reply": "2022-05-29T07:00:30.872413Z"
    },
    "papermill": {
     "duration": 0.064076,
     "end_time": "2022-05-29T07:00:30.875090",
     "exception": false,
     "start_time": "2022-05-29T07:00:30.811014",
     "status": "completed"
    },
    "tags": []
   },
   "outputs": [],
   "source": [
    "#Cleaning invalid duration values\n",
    "mergeddf.Duration =mergeddf.Duration.map(lambda x:re.sub('[^0-9]',\"\",x),na_action='ignore')"
   ]
  },
  {
   "cell_type": "code",
   "execution_count": 25,
   "id": "bbcf3086",
   "metadata": {
    "execution": {
     "iopub.execute_input": "2022-05-29T07:00:30.989733Z",
     "iopub.status.busy": "2022-05-29T07:00:30.989227Z",
     "iopub.status.idle": "2022-05-29T07:00:30.995757Z",
     "shell.execute_reply": "2022-05-29T07:00:30.995154Z"
    },
    "papermill": {
     "duration": 0.06634,
     "end_time": "2022-05-29T07:00:30.997746",
     "exception": false,
     "start_time": "2022-05-29T07:00:30.931406",
     "status": "completed"
    },
    "tags": []
   },
   "outputs": [
    {
     "data": {
      "text/plain": [
       "R            45\n",
       "PG-13        12\n",
       "PG           11\n",
       "G             6\n",
       "Not Rated     1\n",
       "Approved      1\n",
       "Unrated       1\n",
       "Name: Content Rating, dtype: int64"
      ]
     },
     "execution_count": 25,
     "metadata": {},
     "output_type": "execute_result"
    }
   ],
   "source": [
    "mergeddf['Content Rating'].value_counts()"
   ]
  },
  {
   "cell_type": "code",
   "execution_count": 26,
   "id": "7a9a0371",
   "metadata": {
    "execution": {
     "iopub.execute_input": "2022-05-29T07:00:31.115404Z",
     "iopub.status.busy": "2022-05-29T07:00:31.114979Z",
     "iopub.status.idle": "2022-05-29T07:00:31.119234Z",
     "shell.execute_reply": "2022-05-29T07:00:31.118651Z"
    },
    "papermill": {
     "duration": 0.064384,
     "end_time": "2022-05-29T07:00:31.121179",
     "exception": false,
     "start_time": "2022-05-29T07:00:31.056795",
     "status": "completed"
    },
    "tags": []
   },
   "outputs": [],
   "source": [
    "#The content ratings 'Not rated' and 'unrated' means the same\n",
    "mergeddf['Content Rating'].replace(to_replace='Not Rated',value='Unrated',inplace=True)"
   ]
  },
  {
   "cell_type": "code",
   "execution_count": 27,
   "id": "14ebdc54",
   "metadata": {
    "execution": {
     "iopub.execute_input": "2022-05-29T07:00:31.237736Z",
     "iopub.status.busy": "2022-05-29T07:00:31.237443Z",
     "iopub.status.idle": "2022-05-29T07:00:31.245274Z",
     "shell.execute_reply": "2022-05-29T07:00:31.244599Z"
    },
    "papermill": {
     "duration": 0.068617,
     "end_time": "2022-05-29T07:00:31.247543",
     "exception": false,
     "start_time": "2022-05-29T07:00:31.178926",
     "status": "completed"
    },
    "tags": []
   },
   "outputs": [
    {
     "data": {
      "text/plain": [
       "Christopher Nolan                  6\n",
       "Stanley Kubrick                    5\n",
       "Alfred Hitchcock                   4\n",
       "Quentin Tarantino                  4\n",
       "Sergio Leone                       4\n",
       "                                  ..\n",
       "Isao Takahata                      1\n",
       "Giuseppe Tornatore                 1\n",
       "Lana Wachowski, Lilly Wachowski    1\n",
       "Andrew Stanton                     1\n",
       "Stanley Donen                      1\n",
       "Name: Director, Length: 64, dtype: int64"
      ]
     },
     "execution_count": 27,
     "metadata": {},
     "output_type": "execute_result"
    }
   ],
   "source": [
    "mergeddf['Director'].value_counts()"
   ]
  },
  {
   "cell_type": "code",
   "execution_count": 28,
   "id": "1a05ee0b",
   "metadata": {
    "execution": {
     "iopub.execute_input": "2022-05-29T07:00:31.364429Z",
     "iopub.status.busy": "2022-05-29T07:00:31.364077Z",
     "iopub.status.idle": "2022-05-29T07:00:31.401117Z",
     "shell.execute_reply": "2022-05-29T07:00:31.400152Z"
    },
    "papermill": {
     "duration": 0.098277,
     "end_time": "2022-05-29T07:00:31.403509",
     "exception": false,
     "start_time": "2022-05-29T07:00:31.305232",
     "status": "completed"
    },
    "tags": []
   },
   "outputs": [
    {
     "data": {
      "text/html": [
       "<div>\n",
       "<style scoped>\n",
       "    .dataframe tbody tr th:only-of-type {\n",
       "        vertical-align: middle;\n",
       "    }\n",
       "\n",
       "    .dataframe tbody tr th {\n",
       "        vertical-align: top;\n",
       "    }\n",
       "\n",
       "    .dataframe thead th {\n",
       "        text-align: right;\n",
       "    }\n",
       "</style>\n",
       "<table border=\"1\" class=\"dataframe\">\n",
       "  <thead>\n",
       "    <tr style=\"text-align: right;\">\n",
       "      <th></th>\n",
       "      <th>IMBD title ID</th>\n",
       "      <th>original title</th>\n",
       "      <th>Release year</th>\n",
       "      <th>Duration</th>\n",
       "      <th>Country</th>\n",
       "      <th>Content Rating</th>\n",
       "      <th>Director</th>\n",
       "      <th>Income</th>\n",
       "      <th>Votes</th>\n",
       "      <th>Score</th>\n",
       "      <th>...</th>\n",
       "      <th>Sam Mendes</th>\n",
       "      <th>Sergio Leone</th>\n",
       "      <th>Sidney Lumet</th>\n",
       "      <th>Stanley Donen</th>\n",
       "      <th>Stanley Kubrick</th>\n",
       "      <th>Steven Spielberg</th>\n",
       "      <th>Thomas Vinterberg</th>\n",
       "      <th>Todd Phillips</th>\n",
       "      <th>Tony Kaye</th>\n",
       "      <th>Wolfgang Petersen</th>\n",
       "    </tr>\n",
       "  </thead>\n",
       "  <tbody>\n",
       "    <tr>\n",
       "      <th>0</th>\n",
       "      <td>tt0111161</td>\n",
       "      <td>The Shawshank Redemption</td>\n",
       "      <td>1995-02-10</td>\n",
       "      <td>142</td>\n",
       "      <td>USA</td>\n",
       "      <td>R</td>\n",
       "      <td>Frank Darabont</td>\n",
       "      <td>$ 28815245</td>\n",
       "      <td>2.278.845</td>\n",
       "      <td>9.3</td>\n",
       "      <td>...</td>\n",
       "      <td>0</td>\n",
       "      <td>0</td>\n",
       "      <td>0</td>\n",
       "      <td>0</td>\n",
       "      <td>0</td>\n",
       "      <td>0</td>\n",
       "      <td>0</td>\n",
       "      <td>0</td>\n",
       "      <td>0</td>\n",
       "      <td>0</td>\n",
       "    </tr>\n",
       "    <tr>\n",
       "      <th>1</th>\n",
       "      <td>tt0068646</td>\n",
       "      <td>The Godfather</td>\n",
       "      <td>1972-09-21</td>\n",
       "      <td>175</td>\n",
       "      <td>USA</td>\n",
       "      <td>R</td>\n",
       "      <td>Francis Ford Coppola</td>\n",
       "      <td>$ 246120974</td>\n",
       "      <td>1.572.674</td>\n",
       "      <td>9.2</td>\n",
       "      <td>...</td>\n",
       "      <td>0</td>\n",
       "      <td>0</td>\n",
       "      <td>0</td>\n",
       "      <td>0</td>\n",
       "      <td>0</td>\n",
       "      <td>0</td>\n",
       "      <td>0</td>\n",
       "      <td>0</td>\n",
       "      <td>0</td>\n",
       "      <td>0</td>\n",
       "    </tr>\n",
       "    <tr>\n",
       "      <th>2</th>\n",
       "      <td>tt0468569</td>\n",
       "      <td>The Dark Knight</td>\n",
       "      <td>2008-07-23</td>\n",
       "      <td>152</td>\n",
       "      <td>USA</td>\n",
       "      <td>PG-13</td>\n",
       "      <td>Christopher Nolan</td>\n",
       "      <td>$ 1005455211</td>\n",
       "      <td>2.241.615</td>\n",
       "      <td>9.</td>\n",
       "      <td>...</td>\n",
       "      <td>0</td>\n",
       "      <td>0</td>\n",
       "      <td>0</td>\n",
       "      <td>0</td>\n",
       "      <td>0</td>\n",
       "      <td>0</td>\n",
       "      <td>0</td>\n",
       "      <td>0</td>\n",
       "      <td>0</td>\n",
       "      <td>0</td>\n",
       "    </tr>\n",
       "    <tr>\n",
       "      <th>3</th>\n",
       "      <td>tt0071562</td>\n",
       "      <td>The Godfather: Part II</td>\n",
       "      <td>1975-09-25</td>\n",
       "      <td>220</td>\n",
       "      <td>USA</td>\n",
       "      <td>R</td>\n",
       "      <td>Francis Ford Coppola</td>\n",
       "      <td>$ 4o8,035,783</td>\n",
       "      <td>1.098.714</td>\n",
       "      <td>9,.0</td>\n",
       "      <td>...</td>\n",
       "      <td>0</td>\n",
       "      <td>0</td>\n",
       "      <td>0</td>\n",
       "      <td>0</td>\n",
       "      <td>0</td>\n",
       "      <td>0</td>\n",
       "      <td>0</td>\n",
       "      <td>0</td>\n",
       "      <td>0</td>\n",
       "      <td>0</td>\n",
       "    </tr>\n",
       "    <tr>\n",
       "      <th>4</th>\n",
       "      <td>tt0110912</td>\n",
       "      <td>Pulp Fiction</td>\n",
       "      <td>1994-10-28</td>\n",
       "      <td></td>\n",
       "      <td>USA</td>\n",
       "      <td>R</td>\n",
       "      <td>Quentin Tarantino</td>\n",
       "      <td>$ 222831817</td>\n",
       "      <td>1.780.147</td>\n",
       "      <td>8,9f</td>\n",
       "      <td>...</td>\n",
       "      <td>0</td>\n",
       "      <td>0</td>\n",
       "      <td>0</td>\n",
       "      <td>0</td>\n",
       "      <td>0</td>\n",
       "      <td>0</td>\n",
       "      <td>0</td>\n",
       "      <td>0</td>\n",
       "      <td>0</td>\n",
       "      <td>0</td>\n",
       "    </tr>\n",
       "    <tr>\n",
       "      <th>...</th>\n",
       "      <td>...</td>\n",
       "      <td>...</td>\n",
       "      <td>...</td>\n",
       "      <td>...</td>\n",
       "      <td>...</td>\n",
       "      <td>...</td>\n",
       "      <td>...</td>\n",
       "      <td>...</td>\n",
       "      <td>...</td>\n",
       "      <td>...</td>\n",
       "      <td>...</td>\n",
       "      <td>...</td>\n",
       "      <td>...</td>\n",
       "      <td>...</td>\n",
       "      <td>...</td>\n",
       "      <td>...</td>\n",
       "      <td>...</td>\n",
       "      <td>...</td>\n",
       "      <td>...</td>\n",
       "      <td>...</td>\n",
       "      <td>...</td>\n",
       "    </tr>\n",
       "    <tr>\n",
       "      <th>96</th>\n",
       "      <td>tt0070735</td>\n",
       "      <td>The Sting</td>\n",
       "      <td>1974-03-21</td>\n",
       "      <td>129</td>\n",
       "      <td>USA</td>\n",
       "      <td>PG</td>\n",
       "      <td>George Roy Hill</td>\n",
       "      <td>$ 156000000</td>\n",
       "      <td>236.285</td>\n",
       "      <td>7.5</td>\n",
       "      <td>...</td>\n",
       "      <td>0</td>\n",
       "      <td>0</td>\n",
       "      <td>0</td>\n",
       "      <td>0</td>\n",
       "      <td>0</td>\n",
       "      <td>0</td>\n",
       "      <td>0</td>\n",
       "      <td>0</td>\n",
       "      <td>0</td>\n",
       "      <td>0</td>\n",
       "    </tr>\n",
       "    <tr>\n",
       "      <th>97</th>\n",
       "      <td>tt0082096</td>\n",
       "      <td>Das Boot</td>\n",
       "      <td>1982-03-18</td>\n",
       "      <td>149</td>\n",
       "      <td>Germany</td>\n",
       "      <td>R</td>\n",
       "      <td>Wolfgang Petersen</td>\n",
       "      <td>$ 11487676</td>\n",
       "      <td>226.427</td>\n",
       "      <td>7.5</td>\n",
       "      <td>...</td>\n",
       "      <td>0</td>\n",
       "      <td>0</td>\n",
       "      <td>0</td>\n",
       "      <td>0</td>\n",
       "      <td>0</td>\n",
       "      <td>0</td>\n",
       "      <td>0</td>\n",
       "      <td>0</td>\n",
       "      <td>0</td>\n",
       "      <td>1</td>\n",
       "    </tr>\n",
       "    <tr>\n",
       "      <th>98</th>\n",
       "      <td>tt0059578</td>\n",
       "      <td>Per qualche dollaro in piÃ¹</td>\n",
       "      <td>1965-12-20</td>\n",
       "      <td>132</td>\n",
       "      <td>Italy</td>\n",
       "      <td>NaN</td>\n",
       "      <td>Sergio Leone</td>\n",
       "      <td>$ 15000000</td>\n",
       "      <td>226.039</td>\n",
       "      <td>7.4</td>\n",
       "      <td>...</td>\n",
       "      <td>0</td>\n",
       "      <td>1</td>\n",
       "      <td>0</td>\n",
       "      <td>0</td>\n",
       "      <td>0</td>\n",
       "      <td>0</td>\n",
       "      <td>0</td>\n",
       "      <td>0</td>\n",
       "      <td>0</td>\n",
       "      <td>0</td>\n",
       "    </tr>\n",
       "    <tr>\n",
       "      <th>99</th>\n",
       "      <td>tt1832382</td>\n",
       "      <td>Jodaeiye Nader az Simin</td>\n",
       "      <td>2011-10-21</td>\n",
       "      <td>123</td>\n",
       "      <td>Iran</td>\n",
       "      <td>PG-13</td>\n",
       "      <td>Asghar Farhadi</td>\n",
       "      <td>$ 22926076</td>\n",
       "      <td>214.165</td>\n",
       "      <td>7.4</td>\n",
       "      <td>...</td>\n",
       "      <td>0</td>\n",
       "      <td>0</td>\n",
       "      <td>0</td>\n",
       "      <td>0</td>\n",
       "      <td>0</td>\n",
       "      <td>0</td>\n",
       "      <td>0</td>\n",
       "      <td>0</td>\n",
       "      <td>0</td>\n",
       "      <td>0</td>\n",
       "    </tr>\n",
       "    <tr>\n",
       "      <th>100</th>\n",
       "      <td>tt0045152</td>\n",
       "      <td>Singin' in the Rain</td>\n",
       "      <td>1953-02-05</td>\n",
       "      <td>103</td>\n",
       "      <td>USA</td>\n",
       "      <td>NaN</td>\n",
       "      <td>Stanley Donen</td>\n",
       "      <td>$ 1864182</td>\n",
       "      <td>213.152</td>\n",
       "      <td>7.4</td>\n",
       "      <td>...</td>\n",
       "      <td>0</td>\n",
       "      <td>0</td>\n",
       "      <td>0</td>\n",
       "      <td>1</td>\n",
       "      <td>0</td>\n",
       "      <td>0</td>\n",
       "      <td>0</td>\n",
       "      <td>0</td>\n",
       "      <td>0</td>\n",
       "      <td>0</td>\n",
       "    </tr>\n",
       "  </tbody>\n",
       "</table>\n",
       "<p>101 rows × 95 columns</p>\n",
       "</div>"
      ],
      "text/plain": [
       "    IMBD title ID               original title Release year Duration  Country  \\\n",
       "0       tt0111161     The Shawshank Redemption   1995-02-10      142      USA   \n",
       "1       tt0068646                The Godfather   1972-09-21      175      USA   \n",
       "2       tt0468569              The Dark Knight   2008-07-23      152      USA   \n",
       "3       tt0071562       The Godfather: Part II   1975-09-25      220      USA   \n",
       "4       tt0110912                 Pulp Fiction   1994-10-28               USA   \n",
       "..            ...                          ...          ...      ...      ...   \n",
       "96      tt0070735                    The Sting   1974-03-21      129      USA   \n",
       "97      tt0082096                     Das Boot   1982-03-18      149  Germany   \n",
       "98      tt0059578  Per qualche dollaro in piÃ¹   1965-12-20      132    Italy   \n",
       "99      tt1832382      Jodaeiye Nader az Simin   2011-10-21      123     Iran   \n",
       "100     tt0045152          Singin' in the Rain   1953-02-05      103      USA   \n",
       "\n",
       "    Content Rating              Director         Income      Votes Score  ...  \\\n",
       "0                R        Frank Darabont     $ 28815245  2.278.845   9.3  ...   \n",
       "1                R  Francis Ford Coppola    $ 246120974  1.572.674   9.2  ...   \n",
       "2            PG-13     Christopher Nolan   $ 1005455211  2.241.615    9.  ...   \n",
       "3                R  Francis Ford Coppola  $ 4o8,035,783  1.098.714  9,.0  ...   \n",
       "4                R     Quentin Tarantino    $ 222831817  1.780.147  8,9f  ...   \n",
       "..             ...                   ...            ...        ...   ...  ...   \n",
       "96              PG       George Roy Hill    $ 156000000    236.285   7.5  ...   \n",
       "97               R     Wolfgang Petersen     $ 11487676    226.427   7.5  ...   \n",
       "98             NaN          Sergio Leone     $ 15000000    226.039   7.4  ...   \n",
       "99           PG-13        Asghar Farhadi     $ 22926076    214.165   7.4  ...   \n",
       "100            NaN         Stanley Donen      $ 1864182    213.152   7.4  ...   \n",
       "\n",
       "     Sam Mendes  Sergio Leone  Sidney Lumet  Stanley Donen  Stanley Kubrick  \\\n",
       "0             0             0             0              0                0   \n",
       "1             0             0             0              0                0   \n",
       "2             0             0             0              0                0   \n",
       "3             0             0             0              0                0   \n",
       "4             0             0             0              0                0   \n",
       "..          ...           ...           ...            ...              ...   \n",
       "96            0             0             0              0                0   \n",
       "97            0             0             0              0                0   \n",
       "98            0             1             0              0                0   \n",
       "99            0             0             0              0                0   \n",
       "100           0             0             0              1                0   \n",
       "\n",
       "     Steven Spielberg  Thomas Vinterberg  Todd Phillips  Tony Kaye  \\\n",
       "0                   0                  0              0          0   \n",
       "1                   0                  0              0          0   \n",
       "2                   0                  0              0          0   \n",
       "3                   0                  0              0          0   \n",
       "4                   0                  0              0          0   \n",
       "..                ...                ...            ...        ...   \n",
       "96                  0                  0              0          0   \n",
       "97                  0                  0              0          0   \n",
       "98                  0                  0              0          0   \n",
       "99                  0                  0              0          0   \n",
       "100                 0                  0              0          0   \n",
       "\n",
       "     Wolfgang Petersen  \n",
       "0                    0  \n",
       "1                    0  \n",
       "2                    0  \n",
       "3                    0  \n",
       "4                    0  \n",
       "..                 ...  \n",
       "96                   0  \n",
       "97                   1  \n",
       "98                   0  \n",
       "99                   0  \n",
       "100                  0  \n",
       "\n",
       "[101 rows x 95 columns]"
      ]
     },
     "execution_count": 28,
     "metadata": {},
     "output_type": "execute_result"
    }
   ],
   "source": [
    "#Director attribute can have more than 1 director entry per record, so one hot encoding it\n",
    "directorsDf = mergeddf['Director'].str.get_dummies()\n",
    "pd.concat([mergeddf,directorsDf],axis=1)"
   ]
  },
  {
   "cell_type": "code",
   "execution_count": 29,
   "id": "486d3456",
   "metadata": {
    "execution": {
     "iopub.execute_input": "2022-05-29T07:00:31.525924Z",
     "iopub.status.busy": "2022-05-29T07:00:31.525608Z",
     "iopub.status.idle": "2022-05-29T07:00:31.532533Z",
     "shell.execute_reply": "2022-05-29T07:00:31.531530Z"
    },
    "papermill": {
     "duration": 0.069613,
     "end_time": "2022-05-29T07:00:31.534518",
     "exception": false,
     "start_time": "2022-05-29T07:00:31.464905",
     "status": "completed"
    },
    "tags": []
   },
   "outputs": [
    {
     "data": {
      "text/plain": [
       "array(['2.278.845', '1.572.674', '2.241.615', '1.098.714', '1.780.147',\n",
       "       '1.604.280', '1.183.248', '668.473', '2.002.816', '1.807.440',\n",
       "       '1.755.490', '1.619.920', '672.499', nan, '1.632.315', '1.449.778',\n",
       "       '1.132.073', '991.505', '891.071', '1.449.256', '1.402.015',\n",
       "       '1.234.134', '1.204.107', '1.203.825', '1.112.336', '685.856',\n",
       "       '626.693', '605.648', '470.931', '388.310', '307.958', '1.308.193',\n",
       "       '1.159.703', '1.155.723', '1.027.330', '1.014.218', '1.007.598',\n",
       "       '974.970', '968.947', '917.248', '855.097', '736.691', '707.942',\n",
       "       '690.732', '586.765', '509.953', '295.220', '225.438', '223.050',\n",
       "       '211.250', '1.480.582', '1.317.856', '1.098.879', '974.734',\n",
       "       '869.480', '865.510', '796.486', '768.874', '754.786', '591.251',\n",
       "       '501.082', '441.115', '432.390', '352.455', '349.642', '335.892',\n",
       "       '332.217', '331.045', '302.317', '197.381', '195.789', '1.229.958',\n",
       "       '1.049.009', '941.683', '928.036', '896.551', '889.875', '864.461',\n",
       "       '837.379', '766.589', '748.291', '740.301', '739.717', '721.343',\n",
       "       '703.264', '690.480', '658.175', '639.500', '587.866', '389.322',\n",
       "       '362.897', '361.028', '352.786', '291.628', '269.616', '261.504',\n",
       "       '236.285', '226.427', '226.039', '214.165', '213.152'],\n",
       "      dtype=object)"
      ]
     },
     "execution_count": 29,
     "metadata": {},
     "output_type": "execute_result"
    }
   ],
   "source": [
    "mergeddf.Votes.unique()"
   ]
  },
  {
   "cell_type": "markdown",
   "id": "ab47c644",
   "metadata": {
    "papermill": {
     "duration": 0.0585,
     "end_time": "2022-05-29T07:00:31.652012",
     "exception": false,
     "start_time": "2022-05-29T07:00:31.593512",
     "status": "completed"
    },
    "tags": []
   },
   "source": [
    "The votes are expressed in notation of million.thousands.hundreds, we need to remove the seperators in between to get numerical counts"
   ]
  },
  {
   "cell_type": "code",
   "execution_count": 30,
   "id": "d1961cb6",
   "metadata": {
    "execution": {
     "iopub.execute_input": "2022-05-29T07:00:31.771318Z",
     "iopub.status.busy": "2022-05-29T07:00:31.771054Z",
     "iopub.status.idle": "2022-05-29T07:00:31.776783Z",
     "shell.execute_reply": "2022-05-29T07:00:31.775942Z"
    },
    "papermill": {
     "duration": 0.068716,
     "end_time": "2022-05-29T07:00:31.779499",
     "exception": false,
     "start_time": "2022-05-29T07:00:31.710783",
     "status": "completed"
    },
    "tags": []
   },
   "outputs": [
    {
     "name": "stderr",
     "output_type": "stream",
     "text": [
      "/opt/conda/lib/python3.7/site-packages/ipykernel_launcher.py:1: FutureWarning: The default value of regex will change from True to False in a future version. In addition, single character regular expressions will *not* be treated as literal strings when regex=True.\n",
      "  \"\"\"Entry point for launching an IPython kernel.\n"
     ]
    }
   ],
   "source": [
    "mergeddf.Votes=mergeddf.Votes.str.replace('.',\"\")\n"
   ]
  },
  {
   "cell_type": "code",
   "execution_count": 31,
   "id": "819d96af",
   "metadata": {
    "execution": {
     "iopub.execute_input": "2022-05-29T07:00:31.898930Z",
     "iopub.status.busy": "2022-05-29T07:00:31.898214Z",
     "iopub.status.idle": "2022-05-29T07:00:31.905107Z",
     "shell.execute_reply": "2022-05-29T07:00:31.904278Z"
    },
    "papermill": {
     "duration": 0.069339,
     "end_time": "2022-05-29T07:00:31.907664",
     "exception": false,
     "start_time": "2022-05-29T07:00:31.838325",
     "status": "completed"
    },
    "tags": []
   },
   "outputs": [
    {
     "data": {
      "text/plain": [
       "1"
      ]
     },
     "execution_count": 31,
     "metadata": {},
     "output_type": "execute_result"
    }
   ],
   "source": [
    "mergeddf.Votes.isnull().sum()"
   ]
  },
  {
   "cell_type": "code",
   "execution_count": 32,
   "id": "b5a0c06e",
   "metadata": {
    "execution": {
     "iopub.execute_input": "2022-05-29T07:00:32.029499Z",
     "iopub.status.busy": "2022-05-29T07:00:32.029221Z",
     "iopub.status.idle": "2022-05-29T07:00:32.034019Z",
     "shell.execute_reply": "2022-05-29T07:00:32.032945Z"
    },
    "papermill": {
     "duration": 0.068093,
     "end_time": "2022-05-29T07:00:32.035986",
     "exception": false,
     "start_time": "2022-05-29T07:00:31.967893",
     "status": "completed"
    },
    "tags": []
   },
   "outputs": [],
   "source": [
    "mergeddf.Votes.fillna(0,inplace=True)"
   ]
  },
  {
   "cell_type": "code",
   "execution_count": 33,
   "id": "864bbb7d",
   "metadata": {
    "execution": {
     "iopub.execute_input": "2022-05-29T07:00:32.158781Z",
     "iopub.status.busy": "2022-05-29T07:00:32.158491Z",
     "iopub.status.idle": "2022-05-29T07:00:32.166852Z",
     "shell.execute_reply": "2022-05-29T07:00:32.165937Z"
    },
    "papermill": {
     "duration": 0.072476,
     "end_time": "2022-05-29T07:00:32.168948",
     "exception": false,
     "start_time": "2022-05-29T07:00:32.096472",
     "status": "completed"
    },
    "tags": []
   },
   "outputs": [
    {
     "data": {
      "text/plain": [
       "0      2278845\n",
       "1      1572674\n",
       "2      2241615\n",
       "3      1098714\n",
       "4      1780147\n",
       "        ...   \n",
       "96      236285\n",
       "97      226427\n",
       "98      226039\n",
       "99      214165\n",
       "100     213152\n",
       "Name: Votes, Length: 101, dtype: int64"
      ]
     },
     "execution_count": 33,
     "metadata": {},
     "output_type": "execute_result"
    }
   ],
   "source": [
    "mergeddf.Votes.astype('int')"
   ]
  },
  {
   "cell_type": "code",
   "execution_count": 34,
   "id": "30998675",
   "metadata": {
    "execution": {
     "iopub.execute_input": "2022-05-29T07:00:32.291263Z",
     "iopub.status.busy": "2022-05-29T07:00:32.290459Z",
     "iopub.status.idle": "2022-05-29T07:00:32.297344Z",
     "shell.execute_reply": "2022-05-29T07:00:32.296551Z"
    },
    "papermill": {
     "duration": 0.070843,
     "end_time": "2022-05-29T07:00:32.299835",
     "exception": false,
     "start_time": "2022-05-29T07:00:32.228992",
     "status": "completed"
    },
    "tags": []
   },
   "outputs": [
    {
     "data": {
      "text/plain": [
       "array(['$ 28815245', '$ 246120974', '$ 1005455211', '$ 4o8,035,783',\n",
       "       '$ 222831817', '$ 1142271098', '$ 322287794', '$ 576',\n",
       "       '$ 869784991', '$ 101218804', '$ 678229452', '$ 887934303',\n",
       "       '$ 25252481', nan, '$ 465718588', '$ 951227416', '$ 549265501',\n",
       "       '$ 46879633', '$ 108997629', '$ 696742056', '$ 327333559',\n",
       "       '$ 272753884', '$ 775768912', '$ 482349603', '$ 286801374',\n",
       "       '$ 30680793', '$ 355467056', '$ 230098753', '$ 257604912',\n",
       "       '$ 6130720', '$ 322773', '$ 465361176', '$ 291465034',\n",
       "       '$ 109676311', '$ 388774684', '$ 23875127', '$ 19552639',\n",
       "       '$ 520884847', '$ 23341568', '$ 968511805', '$ 1074251311',\n",
       "       '$ 426588510', '$ 120072577', '$ 48983260', '$ 32008644',\n",
       "       '$ 4374761', '$ 112911', '$ 516962', '$ 13826605', '$ 457688',\n",
       "       '$ 1081133191', '$ 425368238', '$ 39970386', '$ 521311860',\n",
       "       '$ 46520613', '$ 390133212', '$ 2048359754', '$ 108110316',\n",
       "       '$ 2797800564', '$ 91968688', '$ 15002116', '$ 9443876',\n",
       "       '$ 37032034', '$ 807083670', '$ 77356942', '$ 375540831',\n",
       "       '$ 60262836', '$ 169785629', '$ 5472914', '$ 969879', '$ 299645',\n",
       "       '$ 321455689', '$ 356296601', '$ 213216216', '$ 475347111',\n",
       "       '$ 2889963', '$ 74036715', '$ 404265438', '$ 225933435',\n",
       "       '$ 83557872', '$ 7390108', '$ 26903440', '$ 1066969703',\n",
       "       '$ 66023585', '$ 28441292', '$ 173924742', '$ 46357676',\n",
       "       '$ 131384634', '$ 68989547', '$ 1594107', '$ 384857224',\n",
       "       '$ 52066791', '$ 7796389', '$ 73446', '$ 15843274', '$ 45710874',\n",
       "       '$ 156000000', '$ 11487676', '$ 15000000', '$ 22926076',\n",
       "       '$ 1864182'], dtype=object)"
      ]
     },
     "execution_count": 34,
     "metadata": {},
     "output_type": "execute_result"
    }
   ],
   "source": [
    "mergeddf.Income.unique()"
   ]
  },
  {
   "cell_type": "code",
   "execution_count": 35,
   "id": "3cd1dff6",
   "metadata": {
    "execution": {
     "iopub.execute_input": "2022-05-29T07:00:32.422465Z",
     "iopub.status.busy": "2022-05-29T07:00:32.422162Z",
     "iopub.status.idle": "2022-05-29T07:00:32.429070Z",
     "shell.execute_reply": "2022-05-29T07:00:32.428196Z"
    },
    "papermill": {
     "duration": 0.070765,
     "end_time": "2022-05-29T07:00:32.431289",
     "exception": false,
     "start_time": "2022-05-29T07:00:32.360524",
     "status": "completed"
    },
    "tags": []
   },
   "outputs": [],
   "source": [
    "#Removing special symbols from Income attribute and correcting some errors like 'o' instead of 0.\n",
    "mergeddf.Income=mergeddf.Income.map(lambda income:re.sub('[^0-9o]',\"\",income),na_action='ignore')\n",
    "mergeddf.Income = mergeddf.Income.str.replace('o','0')"
   ]
  },
  {
   "cell_type": "code",
   "execution_count": 36,
   "id": "ebd02fb1",
   "metadata": {
    "execution": {
     "iopub.execute_input": "2022-05-29T07:00:32.553908Z",
     "iopub.status.busy": "2022-05-29T07:00:32.553289Z",
     "iopub.status.idle": "2022-05-29T07:00:32.559770Z",
     "shell.execute_reply": "2022-05-29T07:00:32.559081Z"
    },
    "papermill": {
     "duration": 0.069952,
     "end_time": "2022-05-29T07:00:32.561745",
     "exception": false,
     "start_time": "2022-05-29T07:00:32.491793",
     "status": "completed"
    },
    "tags": []
   },
   "outputs": [
    {
     "data": {
      "text/plain": [
       "array(['9.3', '9.2', '9.', '9,.0', '8,9f', '08.9', '8.9', '8..8', '8.8',\n",
       "       '8:8', nan, '++8.7', '8.7.', '8,7e-0', '8.7', '8.6', '8,6', '8.5',\n",
       "       '8.4', '8.3', '8.2', '8.1', '8.0', '7.9', '7.8', '7.7', '7.6',\n",
       "       '7.5', '7.4'], dtype=object)"
      ]
     },
     "execution_count": 36,
     "metadata": {},
     "output_type": "execute_result"
    }
   ],
   "source": [
    "mergeddf.Score.unique()"
   ]
  },
  {
   "cell_type": "code",
   "execution_count": 37,
   "id": "9932f225",
   "metadata": {
    "execution": {
     "iopub.execute_input": "2022-05-29T07:00:32.685727Z",
     "iopub.status.busy": "2022-05-29T07:00:32.685115Z",
     "iopub.status.idle": "2022-05-29T07:00:32.690841Z",
     "shell.execute_reply": "2022-05-29T07:00:32.690276Z"
    },
    "papermill": {
     "duration": 0.069605,
     "end_time": "2022-05-29T07:00:32.692842",
     "exception": false,
     "start_time": "2022-05-29T07:00:32.623237",
     "status": "completed"
    },
    "tags": []
   },
   "outputs": [],
   "source": [
    "mergeddf.Score = mergeddf.Score.map(lambda score:re.sub('[^\\d]',\"\",score),na_action='ignore')"
   ]
  },
  {
   "cell_type": "code",
   "execution_count": null,
   "id": "4cdc421f",
   "metadata": {
    "papermill": {
     "duration": 0.059834,
     "end_time": "2022-05-29T07:00:32.813145",
     "exception": false,
     "start_time": "2022-05-29T07:00:32.753311",
     "status": "completed"
    },
    "tags": []
   },
   "outputs": [],
   "source": []
  },
  {
   "cell_type": "code",
   "execution_count": 38,
   "id": "10dc3520",
   "metadata": {
    "execution": {
     "iopub.execute_input": "2022-05-29T07:00:32.935351Z",
     "iopub.status.busy": "2022-05-29T07:00:32.935059Z",
     "iopub.status.idle": "2022-05-29T07:00:32.941150Z",
     "shell.execute_reply": "2022-05-29T07:00:32.940346Z"
    },
    "papermill": {
     "duration": 0.07026,
     "end_time": "2022-05-29T07:00:32.943572",
     "exception": false,
     "start_time": "2022-05-29T07:00:32.873312",
     "status": "completed"
    },
    "tags": []
   },
   "outputs": [
    {
     "data": {
      "text/plain": [
       "array(['93', '92', '9', '90', '89', '089', '88', nan, '87', '870', '86',\n",
       "       '85', '84', '83', '82', '81', '80', '79', '78', '77', '76', '75',\n",
       "       '74'], dtype=object)"
      ]
     },
     "execution_count": 38,
     "metadata": {},
     "output_type": "execute_result"
    }
   ],
   "source": [
    "mergeddf.Score.unique()"
   ]
  },
  {
   "cell_type": "code",
   "execution_count": 39,
   "id": "9690d937",
   "metadata": {
    "execution": {
     "iopub.execute_input": "2022-05-29T07:00:33.067784Z",
     "iopub.status.busy": "2022-05-29T07:00:33.067498Z",
     "iopub.status.idle": "2022-05-29T07:00:33.074184Z",
     "shell.execute_reply": "2022-05-29T07:00:33.073272Z"
    },
    "papermill": {
     "duration": 0.072316,
     "end_time": "2022-05-29T07:00:33.076495",
     "exception": false,
     "start_time": "2022-05-29T07:00:33.004179",
     "status": "completed"
    },
    "tags": []
   },
   "outputs": [],
   "source": [
    "def cleanScores(score):\n",
    "    score = str(score)\n",
    "    if score.startswith('0'):\n",
    "        score=score[1:]\n",
    "       \n",
    "    return score[0] + '.' + score[1:]\n",
    "\n",
    "mergeddf.Score= mergeddf.Score.map(lambda score: cleanScores(score),na_action='ignore')"
   ]
  },
  {
   "cell_type": "code",
   "execution_count": 40,
   "id": "5164178f",
   "metadata": {
    "execution": {
     "iopub.execute_input": "2022-05-29T07:00:33.201562Z",
     "iopub.status.busy": "2022-05-29T07:00:33.200604Z",
     "iopub.status.idle": "2022-05-29T07:00:33.207618Z",
     "shell.execute_reply": "2022-05-29T07:00:33.206654Z"
    },
    "papermill": {
     "duration": 0.071537,
     "end_time": "2022-05-29T07:00:33.209763",
     "exception": false,
     "start_time": "2022-05-29T07:00:33.138226",
     "status": "completed"
    },
    "tags": []
   },
   "outputs": [
    {
     "data": {
      "text/plain": [
       "array(['9.3', '9.2', '9.', '9.0', '8.9', '8.8', nan, '8.7', '8.70', '8.6',\n",
       "       '8.5', '8.4', '8.3', '8.2', '8.1', '8.0', '7.9', '7.8', '7.7',\n",
       "       '7.6', '7.5', '7.4'], dtype=object)"
      ]
     },
     "execution_count": 40,
     "metadata": {},
     "output_type": "execute_result"
    }
   ],
   "source": [
    "mergeddf.Score.unique()"
   ]
  },
  {
   "cell_type": "code",
   "execution_count": 41,
   "id": "97f071f0",
   "metadata": {
    "execution": {
     "iopub.execute_input": "2022-05-29T07:00:33.334608Z",
     "iopub.status.busy": "2022-05-29T07:00:33.334314Z",
     "iopub.status.idle": "2022-05-29T07:00:33.339161Z",
     "shell.execute_reply": "2022-05-29T07:00:33.338310Z"
    },
    "papermill": {
     "duration": 0.069589,
     "end_time": "2022-05-29T07:00:33.341281",
     "exception": false,
     "start_time": "2022-05-29T07:00:33.271692",
     "status": "completed"
    },
    "tags": []
   },
   "outputs": [],
   "source": [
    "mergeddf.Score.fillna(0,inplace=True)"
   ]
  },
  {
   "cell_type": "code",
   "execution_count": 42,
   "id": "8693e420",
   "metadata": {
    "execution": {
     "iopub.execute_input": "2022-05-29T07:00:33.466836Z",
     "iopub.status.busy": "2022-05-29T07:00:33.466172Z",
     "iopub.status.idle": "2022-05-29T07:00:33.473659Z",
     "shell.execute_reply": "2022-05-29T07:00:33.472992Z"
    },
    "papermill": {
     "duration": 0.072821,
     "end_time": "2022-05-29T07:00:33.475722",
     "exception": false,
     "start_time": "2022-05-29T07:00:33.402901",
     "status": "completed"
    },
    "tags": []
   },
   "outputs": [
    {
     "data": {
      "text/plain": [
       "0      9.3\n",
       "1      9.2\n",
       "2      9.0\n",
       "3      9.0\n",
       "4      8.9\n",
       "      ... \n",
       "96     7.5\n",
       "97     7.5\n",
       "98     7.4\n",
       "99     7.4\n",
       "100    7.4\n",
       "Name: Score, Length: 101, dtype: float64"
      ]
     },
     "execution_count": 42,
     "metadata": {},
     "output_type": "execute_result"
    }
   ],
   "source": [
    "mergeddf.Score.astype('float')"
   ]
  },
  {
   "cell_type": "code",
   "execution_count": null,
   "id": "a82d375b",
   "metadata": {
    "execution": {
     "iopub.execute_input": "2022-05-29T06:57:35.766813Z",
     "iopub.status.busy": "2022-05-29T06:57:35.766355Z",
     "iopub.status.idle": "2022-05-29T06:57:35.775927Z",
     "shell.execute_reply": "2022-05-29T06:57:35.775322Z",
     "shell.execute_reply.started": "2022-05-29T06:57:35.766764Z"
    },
    "papermill": {
     "duration": 0.061558,
     "end_time": "2022-05-29T07:00:33.600774",
     "exception": false,
     "start_time": "2022-05-29T07:00:33.539216",
     "status": "completed"
    },
    "tags": []
   },
   "outputs": [],
   "source": []
  },
  {
   "cell_type": "code",
   "execution_count": null,
   "id": "3fc50111",
   "metadata": {
    "papermill": {
     "duration": 0.062874,
     "end_time": "2022-05-29T07:00:33.726395",
     "exception": false,
     "start_time": "2022-05-29T07:00:33.663521",
     "status": "completed"
    },
    "tags": []
   },
   "outputs": [],
   "source": []
  },
  {
   "cell_type": "code",
   "execution_count": null,
   "id": "4d898fff",
   "metadata": {
    "papermill": {
     "duration": 0.064025,
     "end_time": "2022-05-29T07:00:33.852561",
     "exception": false,
     "start_time": "2022-05-29T07:00:33.788536",
     "status": "completed"
    },
    "tags": []
   },
   "outputs": [],
   "source": []
  }
 ],
 "metadata": {
  "kernelspec": {
   "display_name": "Python 3",
   "language": "python",
   "name": "python3"
  },
  "language_info": {
   "codemirror_mode": {
    "name": "ipython",
    "version": 3
   },
   "file_extension": ".py",
   "mimetype": "text/x-python",
   "name": "python",
   "nbconvert_exporter": "python",
   "pygments_lexer": "ipython3",
   "version": "3.7.12"
  },
  "papermill": {
   "default_parameters": {},
   "duration": 17.643005,
   "end_time": "2022-05-29T07:00:34.535120",
   "environment_variables": {},
   "exception": null,
   "input_path": "__notebook__.ipynb",
   "output_path": "__notebook__.ipynb",
   "parameters": {},
   "start_time": "2022-05-29T07:00:16.892115",
   "version": "2.3.4"
  }
 },
 "nbformat": 4,
 "nbformat_minor": 5
}
