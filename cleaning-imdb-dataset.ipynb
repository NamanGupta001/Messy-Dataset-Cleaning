{
 "cells": [
  {
   "cell_type": "code",
   "execution_count": 1,
   "id": "5515d051",
   "metadata": {
    "_cell_guid": "b1076dfc-b9ad-4769-8c92-a6c4dae69d19",
    "_uuid": "8f2839f25d086af736a60e9eeb907d3b93b6e0e5",
    "execution": {
     "iopub.execute_input": "2022-05-31T00:50:49.400677Z",
     "iopub.status.busy": "2022-05-31T00:50:49.399742Z",
     "iopub.status.idle": "2022-05-31T00:50:49.420156Z",
     "shell.execute_reply": "2022-05-31T00:50:49.419345Z"
    },
    "papermill": {
     "duration": 0.080781,
     "end_time": "2022-05-31T00:50:49.422399",
     "exception": false,
     "start_time": "2022-05-31T00:50:49.341618",
     "status": "completed"
    },
    "tags": []
   },
   "outputs": [
    {
     "name": "stdout",
     "output_type": "stream",
     "text": [
      "/kaggle/input/messy-imdb-dataset/messy_IMDB_dataset.csv\n"
     ]
    }
   ],
   "source": [
    "# This Python 3 environment comes with many helpful analytics libraries installed\n",
    "# It is defined by the kaggle/python Docker image: https://github.com/kaggle/docker-python\n",
    "# For example, here's several helpful packages to load\n",
    "\n",
    "import numpy as np # linear algebra\n",
    "import pandas as pd # data processing, CSV file I/O (e.g. pd.read_csv)\n",
    "\n",
    "# Input data files are available in the read-only \"../input/\" directory\n",
    "# For example, running this (by clicking run or pressing Shift+Enter) will list all files under the input directory\n",
    "\n",
    "import os\n",
    "for dirname, _, filenames in os.walk('/kaggle/input'):\n",
    "    for filename in filenames:\n",
    "        print(os.path.join(dirname, filename))\n",
    "\n",
    "# You can write up to 20GB to the current directory (/kaggle/working/) that gets preserved as output when you create a version using \"Save & Run All\" \n",
    "# You can also write temporary files to /kaggle/temp/, but they won't be saved outside of the current session"
   ]
  },
  {
   "cell_type": "code",
   "execution_count": 2,
   "id": "6e5342ba",
   "metadata": {
    "execution": {
     "iopub.execute_input": "2022-05-31T00:50:49.534713Z",
     "iopub.status.busy": "2022-05-31T00:50:49.533964Z",
     "iopub.status.idle": "2022-05-31T00:50:49.550714Z",
     "shell.execute_reply": "2022-05-31T00:50:49.550124Z"
    },
    "papermill": {
     "duration": 0.072887,
     "end_time": "2022-05-31T00:50:49.552657",
     "exception": false,
     "start_time": "2022-05-31T00:50:49.479770",
     "status": "completed"
    },
    "tags": []
   },
   "outputs": [],
   "source": [
    "df = pd.read_csv('/kaggle/input/messy-imdb-dataset/messy_IMDB_dataset.csv', encoding = \"ISO-8859-1\", delimiter=\";\")"
   ]
  },
  {
   "cell_type": "code",
   "execution_count": 3,
   "id": "d0a4850f",
   "metadata": {
    "execution": {
     "iopub.execute_input": "2022-05-31T00:50:49.663282Z",
     "iopub.status.busy": "2022-05-31T00:50:49.662762Z",
     "iopub.status.idle": "2022-05-31T00:50:49.688200Z",
     "shell.execute_reply": "2022-05-31T00:50:49.687415Z"
    },
    "papermill": {
     "duration": 0.083988,
     "end_time": "2022-05-31T00:50:49.690439",
     "exception": false,
     "start_time": "2022-05-31T00:50:49.606451",
     "status": "completed"
    },
    "tags": []
   },
   "outputs": [
    {
     "data": {
      "text/html": [
       "<div>\n",
       "<style scoped>\n",
       "    .dataframe tbody tr th:only-of-type {\n",
       "        vertical-align: middle;\n",
       "    }\n",
       "\n",
       "    .dataframe tbody tr th {\n",
       "        vertical-align: top;\n",
       "    }\n",
       "\n",
       "    .dataframe thead th {\n",
       "        text-align: right;\n",
       "    }\n",
       "</style>\n",
       "<table border=\"1\" class=\"dataframe\">\n",
       "  <thead>\n",
       "    <tr style=\"text-align: right;\">\n",
       "      <th></th>\n",
       "      <th>IMBD title ID</th>\n",
       "      <th>Original titlÊ</th>\n",
       "      <th>Release year</th>\n",
       "      <th>Genrë¨</th>\n",
       "      <th>Duration</th>\n",
       "      <th>Country</th>\n",
       "      <th>Content Rating</th>\n",
       "      <th>Director</th>\n",
       "      <th>Unnamed: 8</th>\n",
       "      <th>Income</th>\n",
       "      <th>Votes</th>\n",
       "      <th>Score</th>\n",
       "    </tr>\n",
       "  </thead>\n",
       "  <tbody>\n",
       "    <tr>\n",
       "      <th>0</th>\n",
       "      <td>tt0111161</td>\n",
       "      <td>The Shawshank Redemption</td>\n",
       "      <td>1995-02-10</td>\n",
       "      <td>Drama</td>\n",
       "      <td>142</td>\n",
       "      <td>USA</td>\n",
       "      <td>R</td>\n",
       "      <td>Frank Darabont</td>\n",
       "      <td>NaN</td>\n",
       "      <td>$ 28815245</td>\n",
       "      <td>2.278.845</td>\n",
       "      <td>9.3</td>\n",
       "    </tr>\n",
       "    <tr>\n",
       "      <th>1</th>\n",
       "      <td>tt0068646</td>\n",
       "      <td>The Godfather</td>\n",
       "      <td>09 21 1972</td>\n",
       "      <td>Crime, Drama</td>\n",
       "      <td>175</td>\n",
       "      <td>USA</td>\n",
       "      <td>R</td>\n",
       "      <td>Francis Ford Coppola</td>\n",
       "      <td>NaN</td>\n",
       "      <td>$ 246120974</td>\n",
       "      <td>1.572.674</td>\n",
       "      <td>9.2</td>\n",
       "    </tr>\n",
       "    <tr>\n",
       "      <th>2</th>\n",
       "      <td>tt0468569</td>\n",
       "      <td>The Dark Knight</td>\n",
       "      <td>23 -07-2008</td>\n",
       "      <td>Action, Crime, Drama</td>\n",
       "      <td>152</td>\n",
       "      <td>US</td>\n",
       "      <td>PG-13</td>\n",
       "      <td>Christopher Nolan</td>\n",
       "      <td>NaN</td>\n",
       "      <td>$ 1005455211</td>\n",
       "      <td>2.241.615</td>\n",
       "      <td>9.</td>\n",
       "    </tr>\n",
       "    <tr>\n",
       "      <th>3</th>\n",
       "      <td>tt0071562</td>\n",
       "      <td>The Godfather: Part II</td>\n",
       "      <td>1975-09-25</td>\n",
       "      <td>Crime, Drama</td>\n",
       "      <td>220</td>\n",
       "      <td>USA</td>\n",
       "      <td>R</td>\n",
       "      <td>Francis Ford Coppola</td>\n",
       "      <td>NaN</td>\n",
       "      <td>$ 4o8,035,783</td>\n",
       "      <td>1.098.714</td>\n",
       "      <td>9,.0</td>\n",
       "    </tr>\n",
       "    <tr>\n",
       "      <th>4</th>\n",
       "      <td>tt0110912</td>\n",
       "      <td>Pulp Fiction</td>\n",
       "      <td>1994-10-28</td>\n",
       "      <td>Crime, Drama</td>\n",
       "      <td></td>\n",
       "      <td>USA</td>\n",
       "      <td>R</td>\n",
       "      <td>Quentin Tarantino</td>\n",
       "      <td>NaN</td>\n",
       "      <td>$ 222831817</td>\n",
       "      <td>1.780.147</td>\n",
       "      <td>8,9f</td>\n",
       "    </tr>\n",
       "  </tbody>\n",
       "</table>\n",
       "</div>"
      ],
      "text/plain": [
       "  IMBD title ID            Original titlÊ  Release year                Genrë¨  \\\n",
       "0     tt0111161  The Shawshank Redemption    1995-02-10                 Drama   \n",
       "1     tt0068646             The Godfather    09 21 1972          Crime, Drama   \n",
       "2     tt0468569           The Dark Knight   23 -07-2008  Action, Crime, Drama   \n",
       "3     tt0071562    The Godfather: Part II    1975-09-25          Crime, Drama   \n",
       "4     tt0110912              Pulp Fiction    1994-10-28          Crime, Drama   \n",
       "\n",
       "  Duration Country Content Rating              Director  Unnamed: 8  \\\n",
       "0      142     USA              R        Frank Darabont         NaN   \n",
       "1      175     USA              R  Francis Ford Coppola         NaN   \n",
       "2      152      US          PG-13     Christopher Nolan         NaN   \n",
       "3      220     USA              R  Francis Ford Coppola         NaN   \n",
       "4              USA              R     Quentin Tarantino         NaN   \n",
       "\n",
       "          Income     Votes  Score  \n",
       "0     $ 28815245  2.278.845   9.3  \n",
       "1    $ 246120974  1.572.674   9.2  \n",
       "2   $ 1005455211  2.241.615    9.  \n",
       "3  $ 4o8,035,783  1.098.714  9,.0  \n",
       "4    $ 222831817  1.780.147  8,9f  "
      ]
     },
     "execution_count": 3,
     "metadata": {},
     "output_type": "execute_result"
    }
   ],
   "source": [
    "df.head()"
   ]
  },
  {
   "cell_type": "markdown",
   "id": "47256a87",
   "metadata": {
    "papermill": {
     "duration": 0.055774,
     "end_time": "2022-05-31T00:50:49.800642",
     "exception": false,
     "start_time": "2022-05-31T00:50:49.744868",
     "status": "completed"
    },
    "tags": []
   },
   "source": [
    "## TO-DO\n",
    "1. The column names needs to be fixed.\n",
    "2. Release year column has inconsistent format of dates\n",
    "3. In country column, countries like USA has synonyms like US and others are wrongly spelled.\n",
    "4. Undefined columns.\n",
    "5. Removal of special symbols from Income,Votes and Score columns."
   ]
  },
  {
   "cell_type": "code",
   "execution_count": 4,
   "id": "4266db35",
   "metadata": {
    "execution": {
     "iopub.execute_input": "2022-05-31T00:50:49.912525Z",
     "iopub.status.busy": "2022-05-31T00:50:49.912002Z",
     "iopub.status.idle": "2022-05-31T00:50:49.918070Z",
     "shell.execute_reply": "2022-05-31T00:50:49.917173Z"
    },
    "papermill": {
     "duration": 0.064049,
     "end_time": "2022-05-31T00:50:49.919987",
     "exception": false,
     "start_time": "2022-05-31T00:50:49.855938",
     "status": "completed"
    },
    "tags": []
   },
   "outputs": [
    {
     "data": {
      "text/plain": [
       "(101, 12)"
      ]
     },
     "execution_count": 4,
     "metadata": {},
     "output_type": "execute_result"
    }
   ],
   "source": [
    "df.shape"
   ]
  },
  {
   "cell_type": "code",
   "execution_count": 5,
   "id": "a12da413",
   "metadata": {
    "execution": {
     "iopub.execute_input": "2022-05-31T00:50:50.033212Z",
     "iopub.status.busy": "2022-05-31T00:50:50.032695Z",
     "iopub.status.idle": "2022-05-31T00:50:50.038556Z",
     "shell.execute_reply": "2022-05-31T00:50:50.037810Z"
    },
    "papermill": {
     "duration": 0.064391,
     "end_time": "2022-05-31T00:50:50.040315",
     "exception": false,
     "start_time": "2022-05-31T00:50:49.975924",
     "status": "completed"
    },
    "tags": []
   },
   "outputs": [
    {
     "data": {
      "text/plain": [
       "Index(['IMBD title ID', 'Original titlÊ', 'Release year', 'Genrë¨', 'Duration',\n",
       "       'Country', 'Content Rating', 'Director', 'Unnamed: 8', 'Income',\n",
       "       ' Votes ', 'Score'],\n",
       "      dtype='object')"
      ]
     },
     "execution_count": 5,
     "metadata": {},
     "output_type": "execute_result"
    }
   ],
   "source": [
    "df.columns"
   ]
  },
  {
   "cell_type": "markdown",
   "id": "5772d6ab",
   "metadata": {
    "papermill": {
     "duration": 0.05487,
     "end_time": "2022-05-31T00:50:50.150442",
     "exception": false,
     "start_time": "2022-05-31T00:50:50.095572",
     "status": "completed"
    },
    "tags": []
   },
   "source": [
    "\n"
   ]
  },
  {
   "cell_type": "code",
   "execution_count": 6,
   "id": "da860048",
   "metadata": {
    "execution": {
     "iopub.execute_input": "2022-05-31T00:50:50.262599Z",
     "iopub.status.busy": "2022-05-31T00:50:50.262320Z",
     "iopub.status.idle": "2022-05-31T00:50:50.271064Z",
     "shell.execute_reply": "2022-05-31T00:50:50.270238Z"
    },
    "papermill": {
     "duration": 0.06667,
     "end_time": "2022-05-31T00:50:50.272983",
     "exception": false,
     "start_time": "2022-05-31T00:50:50.206313",
     "status": "completed"
    },
    "tags": []
   },
   "outputs": [],
   "source": [
    "#Renaming columns to represent proper attribute names\n",
    "columns_mapping = {df.columns[0]:\"IMDB ID\",df.columns[1]:\"original title\",df.columns[3]:\"genre\",df.columns[8]:\"unknown\",df.columns[10]:df.columns[10].strip()}\n",
    "renamedf = df.rename(columns=columns_mapping)"
   ]
  },
  {
   "cell_type": "markdown",
   "id": "cb5e5fd3",
   "metadata": {
    "papermill": {
     "duration": 0.055288,
     "end_time": "2022-05-31T00:50:50.383665",
     "exception": false,
     "start_time": "2022-05-31T00:50:50.328377",
     "status": "completed"
    },
    "tags": []
   },
   "source": []
  },
  {
   "cell_type": "code",
   "execution_count": 7,
   "id": "cd3f1ca2",
   "metadata": {
    "execution": {
     "iopub.execute_input": "2022-05-31T00:50:50.496366Z",
     "iopub.status.busy": "2022-05-31T00:50:50.495889Z",
     "iopub.status.idle": "2022-05-31T00:50:50.501039Z",
     "shell.execute_reply": "2022-05-31T00:50:50.500350Z"
    },
    "papermill": {
     "duration": 0.063587,
     "end_time": "2022-05-31T00:50:50.502802",
     "exception": false,
     "start_time": "2022-05-31T00:50:50.439215",
     "status": "completed"
    },
    "tags": []
   },
   "outputs": [
    {
     "data": {
      "text/plain": [
       "Index(['IMDB ID', 'original title', 'Release year', 'genre', 'Duration',\n",
       "       'Country', 'Content Rating', 'Director', 'unknown', 'Income', 'Votes',\n",
       "       'Score'],\n",
       "      dtype='object')"
      ]
     },
     "execution_count": 7,
     "metadata": {},
     "output_type": "execute_result"
    }
   ],
   "source": [
    "renamedf.columns"
   ]
  },
  {
   "cell_type": "markdown",
   "id": "5f311867",
   "metadata": {
    "papermill": {
     "duration": 0.055868,
     "end_time": "2022-05-31T00:50:50.614424",
     "exception": false,
     "start_time": "2022-05-31T00:50:50.558556",
     "status": "completed"
    },
    "tags": []
   },
   "source": []
  },
  {
   "cell_type": "code",
   "execution_count": 8,
   "id": "3d66a920",
   "metadata": {
    "execution": {
     "iopub.execute_input": "2022-05-31T00:50:50.727779Z",
     "iopub.status.busy": "2022-05-31T00:50:50.727314Z",
     "iopub.status.idle": "2022-05-31T00:50:50.746366Z",
     "shell.execute_reply": "2022-05-31T00:50:50.745789Z"
    },
    "papermill": {
     "duration": 0.078504,
     "end_time": "2022-05-31T00:50:50.748512",
     "exception": false,
     "start_time": "2022-05-31T00:50:50.670008",
     "status": "completed"
    },
    "tags": []
   },
   "outputs": [
    {
     "name": "stdout",
     "output_type": "stream",
     "text": [
      "<class 'pandas.core.frame.DataFrame'>\n",
      "RangeIndex: 101 entries, 0 to 100\n",
      "Data columns (total 12 columns):\n",
      " #   Column          Non-Null Count  Dtype  \n",
      "---  ------          --------------  -----  \n",
      " 0   IMDB ID         100 non-null    object \n",
      " 1   original title  100 non-null    object \n",
      " 2   Release year    100 non-null    object \n",
      " 3   genre           100 non-null    object \n",
      " 4   Duration        99 non-null     object \n",
      " 5   Country         100 non-null    object \n",
      " 6   Content Rating  77 non-null     object \n",
      " 7   Director        100 non-null    object \n",
      " 8   unknown         0 non-null      float64\n",
      " 9   Income          100 non-null    object \n",
      " 10  Votes           100 non-null    object \n",
      " 11  Score           100 non-null    object \n",
      "dtypes: float64(1), object(11)\n",
      "memory usage: 9.6+ KB\n"
     ]
    }
   ],
   "source": [
    "renamedf.info()"
   ]
  },
  {
   "cell_type": "markdown",
   "id": "b289e697",
   "metadata": {
    "papermill": {
     "duration": 0.057921,
     "end_time": "2022-05-31T00:50:50.862213",
     "exception": false,
     "start_time": "2022-05-31T00:50:50.804292",
     "status": "completed"
    },
    "tags": []
   },
   "source": [
    "All the 11 attributes has atleast one Null value in them."
   ]
  },
  {
   "cell_type": "code",
   "execution_count": 9,
   "id": "196bc7e6",
   "metadata": {
    "execution": {
     "iopub.execute_input": "2022-05-31T00:50:50.976924Z",
     "iopub.status.busy": "2022-05-31T00:50:50.976634Z",
     "iopub.status.idle": "2022-05-31T00:50:50.982656Z",
     "shell.execute_reply": "2022-05-31T00:50:50.981906Z"
    },
    "papermill": {
     "duration": 0.066502,
     "end_time": "2022-05-31T00:50:50.984831",
     "exception": false,
     "start_time": "2022-05-31T00:50:50.918329",
     "status": "completed"
    },
    "tags": []
   },
   "outputs": [],
   "source": [
    "#Dropping the 'unknown' empty column and the Imdb ID column\n",
    "renamedf.drop('unknown',axis=1,inplace=True)\n",
    "renamedf.drop('IMDB ID',axis=1,inplace=True)"
   ]
  },
  {
   "cell_type": "code",
   "execution_count": 10,
   "id": "a3a1d3c1",
   "metadata": {
    "execution": {
     "iopub.execute_input": "2022-05-31T00:50:51.098285Z",
     "iopub.status.busy": "2022-05-31T00:50:51.097446Z",
     "iopub.status.idle": "2022-05-31T00:50:51.104771Z",
     "shell.execute_reply": "2022-05-31T00:50:51.104031Z"
    },
    "papermill": {
     "duration": 0.065485,
     "end_time": "2022-05-31T00:50:51.106655",
     "exception": false,
     "start_time": "2022-05-31T00:50:51.041170",
     "status": "completed"
    },
    "tags": []
   },
   "outputs": [
    {
     "data": {
      "text/plain": [
       "array(['1995-02-10', '09 21 1972', ' 23 -07-2008', '1975-09-25',\n",
       "       '1994-10-28', '22 Feb 04', '1994-03-11', '1957-09-04',\n",
       "       '2010-09-24', '10-29-99', '1994-10-06', '2002-01-18',\n",
       "       '23rd December of 1966 ', nan, '1999-05-07', '01/16-03',\n",
       "       '1980-09-19', '1990-09-20', '18/11/1976', '2014-11-06',\n",
       "       '1995-12-15', '1991-03-05', '1977-10-20', '1998-10-30',\n",
       "       '2000-10-03', '2003-05-09', '2003-04-18', '1997-12-20',\n",
       "       '2019-11-07', '1948-03-11', '1955-08-19', '2000-05-19',\n",
       "       '2006-10-27', '2006-12-22', '1985-10-18', '1999-08-27',\n",
       "       '1995-04-07', '1991-12-19', '1995-11-30', '1994-11-25',\n",
       "       '2019-10-03', '2012-02-24', '2002-10-25', '2015-02-12',\n",
       "       '1960-10-28', '21-11-46', '1968-12-21', '2015-10-11', '1988-11-17',\n",
       "       '1937-03-12', '2012-08-29', '2013-01-17', '2001-01-19',\n",
       "       '2008-10-17', '1980-12-22', '1981-06-12', '2018-04-25',\n",
       "       '1979-10-25', '2019-04-24', '1979-12-18', '2005-05-06',\n",
       "       '1964-04-03', '1955-04-14', '2017-12-28', '2007-04-06',\n",
       "       '2018-12-25', '2009-12-25', '1984-09-28', '1945-06-25',\n",
       "       'The 6th of marzo, year 1951', '2009-10-02', '2000-01-21',\n",
       "       '1995-12-01', '1983-10-21', '1992-10-09', '2004-10-22',\n",
       "       '1996-03-22', '1998-03-06', '2001-03-16', '2000-12-15',\n",
       "       '1972-09-07', '2010-07-07', '1984-02-34', '1976-13-24',\n",
       "       '2002-01-25', '1987-10-09', '1986-09-24', '1968-12-12',\n",
       "       '1948-11-25', '2020-01-23', '1985-02-15', '1958-11-18',\n",
       "       '1959-10-28', '2012-11-22', '1963-10-29', '1974-03-21',\n",
       "       '1982-03-18', '1965-12-20', '2011-10-21', '1953-02-05'],\n",
       "      dtype=object)"
      ]
     },
     "execution_count": 10,
     "metadata": {},
     "output_type": "execute_result"
    }
   ],
   "source": [
    "#Analzing the ReleaseYear column values\n",
    "renamedf.iloc[:,1].unique()"
   ]
  },
  {
   "cell_type": "markdown",
   "id": "d0860b84",
   "metadata": {
    "papermill": {
     "duration": 0.056712,
     "end_time": "2022-05-31T00:50:51.219013",
     "exception": false,
     "start_time": "2022-05-31T00:50:51.162301",
     "status": "completed"
    },
    "tags": []
   },
   "source": [
    "The release year attribute has varying formats of dates, we need to convert it to a common format(ex. yyyy-mm-dd)"
   ]
  },
  {
   "cell_type": "code",
   "execution_count": 11,
   "id": "816fb4cf",
   "metadata": {
    "execution": {
     "iopub.execute_input": "2022-05-31T00:50:51.333178Z",
     "iopub.status.busy": "2022-05-31T00:50:51.332823Z",
     "iopub.status.idle": "2022-05-31T00:50:51.341804Z",
     "shell.execute_reply": "2022-05-31T00:50:51.340972Z"
    },
    "papermill": {
     "duration": 0.068779,
     "end_time": "2022-05-31T00:50:51.343916",
     "exception": false,
     "start_time": "2022-05-31T00:50:51.275137",
     "status": "completed"
    },
    "tags": []
   },
   "outputs": [],
   "source": [
    "import re\n",
    "import datetime\n",
    "from datetime import datetime\n",
    "\n",
    "#Removes noise from date values and convert to standard datetime strings\n",
    "def formatDates(messyDate):\n",
    "    dateStr = messyDate.strip()\n",
    "    dateStr = re.sub(r'(\\d)(st|nd|rd|th)', r'\\1', dateStr)\n",
    "    dateStr = re.sub(' [a-zA-Z]{2} ',\" \",dateStr)\n",
    "    pattern = '( -|/)|(-|/ )|( -|/ )'\n",
    "   \n",
    "    if re.search(pattern,dateStr):\n",
    "\n",
    "        dateStr=re.sub(pattern=pattern,string=dateStr,repl=\"-\")\n",
    "    \n",
    "    \n",
    "    dateParsers = ('%Y-%m-%d','%d-%m-%Y','%d-%m-%y','%d %b %Y','%d %b %y','%d %B %Y','%m-%d-%y','%m %d %Y')\n",
    "    isValidDate = False\n",
    "    for parser in dateParsers:\n",
    "        try:\n",
    "            dateObj = datetime.strptime(dateStr,parser)\n",
    "#             dateStr = str(dateObj)\n",
    "            dateStr = dateObj.date()   \n",
    "            isValidDate = True\n",
    "        except Exception as e:\n",
    "            pass\n",
    "            \n",
    "    if isValidDate:\n",
    "        return  str(dateStr)\n",
    "    else:\n",
    "        #Dates which dosent lie in the above mentioned date formats(dateParsers) will not be considered\n",
    "        return None\n",
    "        \n",
    "    "
   ]
  },
  {
   "cell_type": "code",
   "execution_count": 12,
   "id": "f3f9b889",
   "metadata": {
    "execution": {
     "iopub.execute_input": "2022-05-31T00:50:51.458400Z",
     "iopub.status.busy": "2022-05-31T00:50:51.457852Z",
     "iopub.status.idle": "2022-05-31T00:50:51.473153Z",
     "shell.execute_reply": "2022-05-31T00:50:51.472491Z"
    },
    "papermill": {
     "duration": 0.07503,
     "end_time": "2022-05-31T00:50:51.475170",
     "exception": false,
     "start_time": "2022-05-31T00:50:51.400140",
     "status": "completed"
    },
    "tags": []
   },
   "outputs": [],
   "source": [
    "renamedf.iloc[:,1] = renamedf.iloc[:,1].map(formatDates,na_action='ignore')\n"
   ]
  },
  {
   "cell_type": "code",
   "execution_count": 13,
   "id": "4f353c97",
   "metadata": {
    "execution": {
     "iopub.execute_input": "2022-05-31T00:50:51.589529Z",
     "iopub.status.busy": "2022-05-31T00:50:51.589214Z",
     "iopub.status.idle": "2022-05-31T00:50:51.594864Z",
     "shell.execute_reply": "2022-05-31T00:50:51.594060Z"
    },
    "papermill": {
     "duration": 0.065384,
     "end_time": "2022-05-31T00:50:51.596827",
     "exception": false,
     "start_time": "2022-05-31T00:50:51.531443",
     "status": "completed"
    },
    "tags": []
   },
   "outputs": [],
   "source": [
    "renamedf.iloc[:,1] = renamedf.iloc[:,1].str.replace('None',\"\")"
   ]
  },
  {
   "cell_type": "code",
   "execution_count": 14,
   "id": "d91d568f",
   "metadata": {
    "execution": {
     "iopub.execute_input": "2022-05-31T00:50:51.710491Z",
     "iopub.status.busy": "2022-05-31T00:50:51.710210Z",
     "iopub.status.idle": "2022-05-31T00:50:51.717015Z",
     "shell.execute_reply": "2022-05-31T00:50:51.716056Z"
    },
    "papermill": {
     "duration": 0.066579,
     "end_time": "2022-05-31T00:50:51.719136",
     "exception": false,
     "start_time": "2022-05-31T00:50:51.652557",
     "status": "completed"
    },
    "tags": []
   },
   "outputs": [
    {
     "data": {
      "text/plain": [
       "array(['1995-02-10', '1972-09-21', '2008-07-23', '1975-09-25',\n",
       "       '1994-10-28', '2004-02-22', '1994-03-11', '1957-09-04',\n",
       "       '2010-09-24', '1999-10-29', '1994-10-06', '2002-01-18',\n",
       "       '1966-12-23', nan, '1999-05-07', '2003-01-16', '1980-09-19',\n",
       "       '1990-09-20', '1976-11-18', '2014-11-06', '1995-12-15',\n",
       "       '1991-03-05', '1977-10-20', '1998-10-30', '2000-10-03',\n",
       "       '2003-05-09', '2003-04-18', '1997-12-20', '2019-11-07',\n",
       "       '1948-03-11', '1955-08-19', '2000-05-19', '2006-10-27',\n",
       "       '2006-12-22', '1985-10-18', '1999-08-27', '1995-04-07',\n",
       "       '1991-12-19', '1995-11-30', '1994-11-25', '2019-10-03',\n",
       "       '2012-02-24', '2002-10-25', '2015-02-12', '1960-10-28',\n",
       "       '2046-11-21', '1968-12-21', '2015-10-11', '1988-11-17',\n",
       "       '1937-03-12', '2012-08-29', '2013-01-17', '2001-01-19',\n",
       "       '2008-10-17', '1980-12-22', '1981-06-12', '2018-04-25',\n",
       "       '1979-10-25', '2019-04-24', '1979-12-18', '2005-05-06',\n",
       "       '1964-04-03', '1955-04-14', '2017-12-28', '2007-04-06',\n",
       "       '2018-12-25', '2009-12-25', '1984-09-28', '1945-06-25', None,\n",
       "       '2009-10-02', '2000-01-21', '1995-12-01', '1983-10-21',\n",
       "       '1992-10-09', '2004-10-22', '1996-03-22', '1998-03-06',\n",
       "       '2001-03-16', '2000-12-15', '1972-09-07', '2010-07-07',\n",
       "       '2002-01-25', '1987-10-09', '1986-09-24', '1968-12-12',\n",
       "       '1948-11-25', '2020-01-23', '1985-02-15', '1958-11-18',\n",
       "       '1959-10-28', '2012-11-22', '1963-10-29', '1974-03-21',\n",
       "       '1982-03-18', '1965-12-20', '2011-10-21', '1953-02-05'],\n",
       "      dtype=object)"
      ]
     },
     "execution_count": 14,
     "metadata": {},
     "output_type": "execute_result"
    }
   ],
   "source": [
    "renamedf.iloc[:,1].unique()"
   ]
  },
  {
   "cell_type": "code",
   "execution_count": null,
   "id": "ed906e6d",
   "metadata": {
    "papermill": {
     "duration": 0.056411,
     "end_time": "2022-05-31T00:50:51.831997",
     "exception": false,
     "start_time": "2022-05-31T00:50:51.775586",
     "status": "completed"
    },
    "tags": []
   },
   "outputs": [],
   "source": [
    "\n",
    "    \n",
    "    "
   ]
  },
  {
   "cell_type": "code",
   "execution_count": 15,
   "id": "3b52e14b",
   "metadata": {
    "execution": {
     "iopub.execute_input": "2022-05-31T00:50:51.947246Z",
     "iopub.status.busy": "2022-05-31T00:50:51.946829Z",
     "iopub.status.idle": "2022-05-31T00:50:51.953421Z",
     "shell.execute_reply": "2022-05-31T00:50:51.952589Z"
    },
    "papermill": {
     "duration": 0.066569,
     "end_time": "2022-05-31T00:50:51.955193",
     "exception": false,
     "start_time": "2022-05-31T00:50:51.888624",
     "status": "completed"
    },
    "tags": []
   },
   "outputs": [
    {
     "data": {
      "text/plain": [
       "array(['Drama', 'Crime, Drama', 'Action, Crime, Drama',\n",
       "       'Action, Adventure, Drama', 'Biography, Drama, History',\n",
       "       'Action, Adventure, Sci-Fi', 'Drama, Romance', 'Western', nan,\n",
       "       'Action, Sci-Fi', 'Action, Adventure, Fantasy',\n",
       "       'Biography, Crime, Drama', 'Adventure, Drama, Sci-Fi',\n",
       "       'Crime, Drama, Mystery', 'Crime, Drama, Thriller', 'Drama, War',\n",
       "       'Crime, Drama, Fantasy', 'Animation, Adventure, Family',\n",
       "       'Comedy, Drama, Romance', 'Comedy, Drama, Thriller',\n",
       "       'Drama, Family, Fantasy', 'Drama, Mystery, Sci-Fi',\n",
       "       'Adventure, Comedy, Sci-Fi', 'Crime, Mystery, Thriller',\n",
       "       'Animation, Adventure, Drama', 'Biography, Comedy, Drama',\n",
       "       'Biography, Drama, Music', 'Drama, Music',\n",
       "       'Horror, Mystery, Thriller', 'Drama, Romance, War',\n",
       "       'Animation, Drama, War', 'Comedy, Drama, Family',\n",
       "       'Action, Adventure', 'Drama, Western', 'Mystery, Thriller',\n",
       "       'Drama, Horror', 'Horror, Sci-Fi', 'Drama, Mystery, War',\n",
       "       'Action, Drama, Mystery', 'Comedy', 'Drama, Mystery, Thriller',\n",
       "       'Animation, Action, Adventure', 'Comedy, Drama',\n",
       "       'Animation, Adventure, Fantasy', 'Comedy, Drama, War',\n",
       "       'Drama, Film-Noir', 'Adventure, Drama, War',\n",
       "       'Drama, Romance, Sci-Fi', 'Animation, Adventure, Comedy',\n",
       "       'Comedy, Crime', 'Crime, Drama, Sci-Fi', 'Comedy, Romance',\n",
       "       'Adventure, Sci-Fi', 'Drama, Mystery',\n",
       "       'Mystery, Romance, Thriller', 'Adventure, Mystery, Thriller',\n",
       "       'Adventure, Biography, Drama', 'Comedy, Crime, Drama',\n",
       "       'Adventure, Drama, Thriller', 'Comedy, Musical, Romance'],\n",
       "      dtype=object)"
      ]
     },
     "execution_count": 15,
     "metadata": {},
     "output_type": "execute_result"
    }
   ],
   "source": [
    "#Analyzing genre column\n",
    "renamedf['genre'].unique()"
   ]
  },
  {
   "cell_type": "markdown",
   "id": "6b76ac24",
   "metadata": {
    "papermill": {
     "duration": 0.057357,
     "end_time": "2022-05-31T00:50:52.069617",
     "exception": false,
     "start_time": "2022-05-31T00:50:52.012260",
     "status": "completed"
    },
    "tags": []
   },
   "source": [
    "Genre attribute can have multiple genre for each entry, so we'll convert the multivalue genre column into multiple columns having unique genre "
   ]
  },
  {
   "cell_type": "code",
   "execution_count": 16,
   "id": "5fefc17d",
   "metadata": {
    "execution": {
     "iopub.execute_input": "2022-05-31T00:50:52.185545Z",
     "iopub.status.busy": "2022-05-31T00:50:52.185145Z",
     "iopub.status.idle": "2022-05-31T00:50:52.190747Z",
     "shell.execute_reply": "2022-05-31T00:50:52.190159Z"
    },
    "papermill": {
     "duration": 0.06578,
     "end_time": "2022-05-31T00:50:52.192622",
     "exception": false,
     "start_time": "2022-05-31T00:50:52.126842",
     "status": "completed"
    },
    "tags": []
   },
   "outputs": [],
   "source": [
    "import re\n",
    "#cleaning the genre values\n",
    "renamedf.genre = renamedf.genre.apply(lambda multigenre:re.sub(pattern=' ',repl=\"\",string=str(multigenre)))"
   ]
  },
  {
   "cell_type": "code",
   "execution_count": 17,
   "id": "8b38e3a2",
   "metadata": {
    "execution": {
     "iopub.execute_input": "2022-05-31T00:50:52.309694Z",
     "iopub.status.busy": "2022-05-31T00:50:52.309400Z",
     "iopub.status.idle": "2022-05-31T00:50:52.317819Z",
     "shell.execute_reply": "2022-05-31T00:50:52.316921Z"
    },
    "papermill": {
     "duration": 0.069243,
     "end_time": "2022-05-31T00:50:52.319875",
     "exception": false,
     "start_time": "2022-05-31T00:50:52.250632",
     "status": "completed"
    },
    "tags": []
   },
   "outputs": [],
   "source": [
    "#One hot encoding the features\n",
    "genredf=renamedf.genre.str.get_dummies(',')"
   ]
  },
  {
   "cell_type": "code",
   "execution_count": 18,
   "id": "5ccb8774",
   "metadata": {
    "execution": {
     "iopub.execute_input": "2022-05-31T00:50:52.437155Z",
     "iopub.status.busy": "2022-05-31T00:50:52.436713Z",
     "iopub.status.idle": "2022-05-31T00:50:52.444262Z",
     "shell.execute_reply": "2022-05-31T00:50:52.443559Z"
    },
    "papermill": {
     "duration": 0.06868,
     "end_time": "2022-05-31T00:50:52.446276",
     "exception": false,
     "start_time": "2022-05-31T00:50:52.377596",
     "status": "completed"
    },
    "tags": []
   },
   "outputs": [],
   "source": [
    "\n",
    "mergeddf = pd.concat([renamedf,genredf],axis=1)\n",
    "mergeddf.drop('genre',inplace=True,axis=1)"
   ]
  },
  {
   "cell_type": "code",
   "execution_count": 19,
   "id": "68386978",
   "metadata": {
    "execution": {
     "iopub.execute_input": "2022-05-31T00:50:52.562140Z",
     "iopub.status.busy": "2022-05-31T00:50:52.561383Z",
     "iopub.status.idle": "2022-05-31T00:50:52.579837Z",
     "shell.execute_reply": "2022-05-31T00:50:52.579185Z"
    },
    "papermill": {
     "duration": 0.078212,
     "end_time": "2022-05-31T00:50:52.581616",
     "exception": false,
     "start_time": "2022-05-31T00:50:52.503404",
     "status": "completed"
    },
    "tags": []
   },
   "outputs": [
    {
     "data": {
      "text/html": [
       "<div>\n",
       "<style scoped>\n",
       "    .dataframe tbody tr th:only-of-type {\n",
       "        vertical-align: middle;\n",
       "    }\n",
       "\n",
       "    .dataframe tbody tr th {\n",
       "        vertical-align: top;\n",
       "    }\n",
       "\n",
       "    .dataframe thead th {\n",
       "        text-align: right;\n",
       "    }\n",
       "</style>\n",
       "<table border=\"1\" class=\"dataframe\">\n",
       "  <thead>\n",
       "    <tr style=\"text-align: right;\">\n",
       "      <th></th>\n",
       "      <th>original title</th>\n",
       "      <th>Release year</th>\n",
       "      <th>Duration</th>\n",
       "      <th>Country</th>\n",
       "      <th>Content Rating</th>\n",
       "      <th>Director</th>\n",
       "      <th>Income</th>\n",
       "      <th>Votes</th>\n",
       "      <th>Score</th>\n",
       "      <th>Action</th>\n",
       "      <th>...</th>\n",
       "      <th>Horror</th>\n",
       "      <th>Music</th>\n",
       "      <th>Musical</th>\n",
       "      <th>Mystery</th>\n",
       "      <th>Romance</th>\n",
       "      <th>Sci-Fi</th>\n",
       "      <th>Thriller</th>\n",
       "      <th>War</th>\n",
       "      <th>Western</th>\n",
       "      <th>nan</th>\n",
       "    </tr>\n",
       "  </thead>\n",
       "  <tbody>\n",
       "    <tr>\n",
       "      <th>0</th>\n",
       "      <td>The Shawshank Redemption</td>\n",
       "      <td>1995-02-10</td>\n",
       "      <td>142</td>\n",
       "      <td>USA</td>\n",
       "      <td>R</td>\n",
       "      <td>Frank Darabont</td>\n",
       "      <td>$ 28815245</td>\n",
       "      <td>2.278.845</td>\n",
       "      <td>9.3</td>\n",
       "      <td>0</td>\n",
       "      <td>...</td>\n",
       "      <td>0</td>\n",
       "      <td>0</td>\n",
       "      <td>0</td>\n",
       "      <td>0</td>\n",
       "      <td>0</td>\n",
       "      <td>0</td>\n",
       "      <td>0</td>\n",
       "      <td>0</td>\n",
       "      <td>0</td>\n",
       "      <td>0</td>\n",
       "    </tr>\n",
       "    <tr>\n",
       "      <th>1</th>\n",
       "      <td>The Godfather</td>\n",
       "      <td>1972-09-21</td>\n",
       "      <td>175</td>\n",
       "      <td>USA</td>\n",
       "      <td>R</td>\n",
       "      <td>Francis Ford Coppola</td>\n",
       "      <td>$ 246120974</td>\n",
       "      <td>1.572.674</td>\n",
       "      <td>9.2</td>\n",
       "      <td>0</td>\n",
       "      <td>...</td>\n",
       "      <td>0</td>\n",
       "      <td>0</td>\n",
       "      <td>0</td>\n",
       "      <td>0</td>\n",
       "      <td>0</td>\n",
       "      <td>0</td>\n",
       "      <td>0</td>\n",
       "      <td>0</td>\n",
       "      <td>0</td>\n",
       "      <td>0</td>\n",
       "    </tr>\n",
       "    <tr>\n",
       "      <th>2</th>\n",
       "      <td>The Dark Knight</td>\n",
       "      <td>2008-07-23</td>\n",
       "      <td>152</td>\n",
       "      <td>US</td>\n",
       "      <td>PG-13</td>\n",
       "      <td>Christopher Nolan</td>\n",
       "      <td>$ 1005455211</td>\n",
       "      <td>2.241.615</td>\n",
       "      <td>9.</td>\n",
       "      <td>1</td>\n",
       "      <td>...</td>\n",
       "      <td>0</td>\n",
       "      <td>0</td>\n",
       "      <td>0</td>\n",
       "      <td>0</td>\n",
       "      <td>0</td>\n",
       "      <td>0</td>\n",
       "      <td>0</td>\n",
       "      <td>0</td>\n",
       "      <td>0</td>\n",
       "      <td>0</td>\n",
       "    </tr>\n",
       "    <tr>\n",
       "      <th>3</th>\n",
       "      <td>The Godfather: Part II</td>\n",
       "      <td>1975-09-25</td>\n",
       "      <td>220</td>\n",
       "      <td>USA</td>\n",
       "      <td>R</td>\n",
       "      <td>Francis Ford Coppola</td>\n",
       "      <td>$ 4o8,035,783</td>\n",
       "      <td>1.098.714</td>\n",
       "      <td>9,.0</td>\n",
       "      <td>0</td>\n",
       "      <td>...</td>\n",
       "      <td>0</td>\n",
       "      <td>0</td>\n",
       "      <td>0</td>\n",
       "      <td>0</td>\n",
       "      <td>0</td>\n",
       "      <td>0</td>\n",
       "      <td>0</td>\n",
       "      <td>0</td>\n",
       "      <td>0</td>\n",
       "      <td>0</td>\n",
       "    </tr>\n",
       "    <tr>\n",
       "      <th>4</th>\n",
       "      <td>Pulp Fiction</td>\n",
       "      <td>1994-10-28</td>\n",
       "      <td></td>\n",
       "      <td>USA</td>\n",
       "      <td>R</td>\n",
       "      <td>Quentin Tarantino</td>\n",
       "      <td>$ 222831817</td>\n",
       "      <td>1.780.147</td>\n",
       "      <td>8,9f</td>\n",
       "      <td>0</td>\n",
       "      <td>...</td>\n",
       "      <td>0</td>\n",
       "      <td>0</td>\n",
       "      <td>0</td>\n",
       "      <td>0</td>\n",
       "      <td>0</td>\n",
       "      <td>0</td>\n",
       "      <td>0</td>\n",
       "      <td>0</td>\n",
       "      <td>0</td>\n",
       "      <td>0</td>\n",
       "    </tr>\n",
       "  </tbody>\n",
       "</table>\n",
       "<p>5 rows × 30 columns</p>\n",
       "</div>"
      ],
      "text/plain": [
       "             original title Release year Duration Country Content Rating  \\\n",
       "0  The Shawshank Redemption   1995-02-10      142     USA              R   \n",
       "1             The Godfather   1972-09-21      175     USA              R   \n",
       "2           The Dark Knight   2008-07-23      152      US          PG-13   \n",
       "3    The Godfather: Part II   1975-09-25      220     USA              R   \n",
       "4              Pulp Fiction   1994-10-28              USA              R   \n",
       "\n",
       "               Director         Income      Votes Score  Action  ...  Horror  \\\n",
       "0        Frank Darabont     $ 28815245  2.278.845   9.3       0  ...       0   \n",
       "1  Francis Ford Coppola    $ 246120974  1.572.674   9.2       0  ...       0   \n",
       "2     Christopher Nolan   $ 1005455211  2.241.615    9.       1  ...       0   \n",
       "3  Francis Ford Coppola  $ 4o8,035,783  1.098.714  9,.0       0  ...       0   \n",
       "4     Quentin Tarantino    $ 222831817  1.780.147  8,9f       0  ...       0   \n",
       "\n",
       "   Music  Musical  Mystery  Romance  Sci-Fi  Thriller  War  Western  nan  \n",
       "0      0        0        0        0       0         0    0        0    0  \n",
       "1      0        0        0        0       0         0    0        0    0  \n",
       "2      0        0        0        0       0         0    0        0    0  \n",
       "3      0        0        0        0       0         0    0        0    0  \n",
       "4      0        0        0        0       0         0    0        0    0  \n",
       "\n",
       "[5 rows x 30 columns]"
      ]
     },
     "execution_count": 19,
     "metadata": {},
     "output_type": "execute_result"
    }
   ],
   "source": [
    "mergeddf.head()"
   ]
  },
  {
   "cell_type": "markdown",
   "id": "53b0b8ae",
   "metadata": {
    "papermill": {
     "duration": 0.057414,
     "end_time": "2022-05-31T00:50:52.696701",
     "exception": false,
     "start_time": "2022-05-31T00:50:52.639287",
     "status": "completed"
    },
    "tags": []
   },
   "source": []
  },
  {
   "cell_type": "code",
   "execution_count": 20,
   "id": "dde11246",
   "metadata": {
    "execution": {
     "iopub.execute_input": "2022-05-31T00:50:52.815912Z",
     "iopub.status.busy": "2022-05-31T00:50:52.815099Z",
     "iopub.status.idle": "2022-05-31T00:50:52.820433Z",
     "shell.execute_reply": "2022-05-31T00:50:52.819902Z"
    },
    "papermill": {
     "duration": 0.066379,
     "end_time": "2022-05-31T00:50:52.822251",
     "exception": false,
     "start_time": "2022-05-31T00:50:52.755872",
     "status": "completed"
    },
    "tags": []
   },
   "outputs": [
    {
     "data": {
      "text/plain": [
       "array(['USA', 'US', 'New Zealand', 'UK', 'New Zesland', 'Italy', nan,\n",
       "       'New Zeland', 'US.', 'Brazil', 'Japan', 'Italy1', 'South Korea',\n",
       "       'France', 'Germany', 'India', 'Denmark', 'West Germany', 'Iran'],\n",
       "      dtype=object)"
      ]
     },
     "execution_count": 20,
     "metadata": {},
     "output_type": "execute_result"
    }
   ],
   "source": [
    "mergeddf.Country.unique()"
   ]
  },
  {
   "cell_type": "markdown",
   "id": "7e2e59fe",
   "metadata": {
    "papermill": {
     "duration": 0.058988,
     "end_time": "2022-05-31T00:50:52.940788",
     "exception": false,
     "start_time": "2022-05-31T00:50:52.881800",
     "status": "completed"
    },
    "tags": []
   },
   "source": [
    "Country names cant have digits and special characters in them.Hence we'll remove it"
   ]
  },
  {
   "cell_type": "code",
   "execution_count": 21,
   "id": "e5bce1ec",
   "metadata": {
    "execution": {
     "iopub.execute_input": "2022-05-31T00:50:53.060124Z",
     "iopub.status.busy": "2022-05-31T00:50:53.059527Z",
     "iopub.status.idle": "2022-05-31T00:50:53.065342Z",
     "shell.execute_reply": "2022-05-31T00:50:53.064776Z"
    },
    "papermill": {
     "duration": 0.068526,
     "end_time": "2022-05-31T00:50:53.067388",
     "exception": false,
     "start_time": "2022-05-31T00:50:52.998862",
     "status": "completed"
    },
    "tags": []
   },
   "outputs": [],
   "source": [
    "mergeddf.Country = mergeddf.Country.map(lambda x:re.sub('[^a-z-A-Z\\s]',\"\",x),na_action='ignore')"
   ]
  },
  {
   "cell_type": "markdown",
   "id": "e2acb19e",
   "metadata": {
    "papermill": {
     "duration": 0.057677,
     "end_time": "2022-05-31T00:50:53.184378",
     "exception": false,
     "start_time": "2022-05-31T00:50:53.126701",
     "status": "completed"
    },
    "tags": []
   },
   "source": [
    "Some countries have have slight inaccuracies in their names (For ex. USA,US etc.)"
   ]
  },
  {
   "cell_type": "code",
   "execution_count": 22,
   "id": "3f55f01d",
   "metadata": {
    "execution": {
     "iopub.execute_input": "2022-05-31T00:50:53.306143Z",
     "iopub.status.busy": "2022-05-31T00:50:53.305371Z",
     "iopub.status.idle": "2022-05-31T00:50:53.334747Z",
     "shell.execute_reply": "2022-05-31T00:50:53.334117Z"
    },
    "papermill": {
     "duration": 0.091556,
     "end_time": "2022-05-31T00:50:53.336865",
     "exception": false,
     "start_time": "2022-05-31T00:50:53.245309",
     "status": "completed"
    },
    "tags": []
   },
   "outputs": [],
   "source": [
    "from difflib import SequenceMatcher\n",
    "\n",
    "#let's specify correct names\n",
    "correct_names = {'USA','New Zealand','UK','Italy','South Korea','France','Iran','Germany','Denmark','India','Brazil','Japan'\n",
    "                }\n",
    "\n",
    "#This function will find the best match for a country name having errors in their names\n",
    "def get_most_similar(word,wordlist):\n",
    "    top_similarity = 0.0\n",
    "    most_similar_word = word\n",
    "    for candidate in wordlist:\n",
    "        similarity = SequenceMatcher(None,word,candidate).ratio()\n",
    "        if similarity > top_similarity:\n",
    "                \n",
    "            top_similarity = similarity\n",
    "            most_similar_word = candidate\n",
    "    return most_similar_word\n",
    "\n",
    "#Applying this function over 'country' column in dataframe\n",
    "mergeddf.Country = mergeddf.Country.map(lambda x: get_most_similar(x,correct_names),na_action='ignore')"
   ]
  },
  {
   "cell_type": "code",
   "execution_count": 23,
   "id": "7c4e6e06",
   "metadata": {
    "execution": {
     "iopub.execute_input": "2022-05-31T00:50:53.455347Z",
     "iopub.status.busy": "2022-05-31T00:50:53.454820Z",
     "iopub.status.idle": "2022-05-31T00:50:53.462297Z",
     "shell.execute_reply": "2022-05-31T00:50:53.461632Z"
    },
    "papermill": {
     "duration": 0.069004,
     "end_time": "2022-05-31T00:50:53.464112",
     "exception": false,
     "start_time": "2022-05-31T00:50:53.395108",
     "status": "completed"
    },
    "tags": []
   },
   "outputs": [
    {
     "data": {
      "text/plain": [
       "USA            64\n",
       "UK             12\n",
       "Italy           5\n",
       "Japan           4\n",
       "New Zealand     3\n",
       "France          3\n",
       "Germany         3\n",
       "South Korea     2\n",
       "Brazil          1\n",
       "India           1\n",
       "Denmark         1\n",
       "Iran            1\n",
       "Name: Country, dtype: int64"
      ]
     },
     "execution_count": 23,
     "metadata": {},
     "output_type": "execute_result"
    }
   ],
   "source": [
    "mergeddf.Country.value_counts()"
   ]
  },
  {
   "cell_type": "code",
   "execution_count": 24,
   "id": "41e4a566",
   "metadata": {
    "execution": {
     "iopub.execute_input": "2022-05-31T00:50:53.582379Z",
     "iopub.status.busy": "2022-05-31T00:50:53.581814Z",
     "iopub.status.idle": "2022-05-31T00:50:53.588587Z",
     "shell.execute_reply": "2022-05-31T00:50:53.587780Z"
    },
    "papermill": {
     "duration": 0.06834,
     "end_time": "2022-05-31T00:50:53.590568",
     "exception": false,
     "start_time": "2022-05-31T00:50:53.522228",
     "status": "completed"
    },
    "tags": []
   },
   "outputs": [
    {
     "data": {
      "text/plain": [
       "array(['142', '175', '152', '220', ' ', '201', 'Nan', '96', '148', 'Inf',\n",
       "       '178c', '161', nan, '179', 'Not Applicable', '146', '-', '169',\n",
       "       '127', '118', '121', '189', '130', '125', '116', '132', '207',\n",
       "       '155', '151', '119', '110', '137', '106', '88', '122', '112',\n",
       "       '150', '109', '102', '165', '89', '87', '164', '113', '98', '115',\n",
       "       '149', '117', '181', '147', '120', '95', '105', '170', '134',\n",
       "       '229', '153', '178', '131', '99', '108', '81', '126', '104', '136',\n",
       "       '103', '114', '160', '128', '228', '129', '123'], dtype=object)"
      ]
     },
     "execution_count": 24,
     "metadata": {},
     "output_type": "execute_result"
    }
   ],
   "source": [
    "mergeddf.Duration.unique()"
   ]
  },
  {
   "cell_type": "code",
   "execution_count": 25,
   "id": "13be9bc9",
   "metadata": {
    "execution": {
     "iopub.execute_input": "2022-05-31T00:50:53.711190Z",
     "iopub.status.busy": "2022-05-31T00:50:53.710622Z",
     "iopub.status.idle": "2022-05-31T00:50:53.716134Z",
     "shell.execute_reply": "2022-05-31T00:50:53.715535Z"
    },
    "papermill": {
     "duration": 0.068931,
     "end_time": "2022-05-31T00:50:53.718141",
     "exception": false,
     "start_time": "2022-05-31T00:50:53.649210",
     "status": "completed"
    },
    "tags": []
   },
   "outputs": [],
   "source": [
    "#Cleaning invalid duration values\n",
    "mergeddf.Duration =mergeddf.Duration.map(lambda x:re.sub('[^0-9]',\"\",x),na_action='ignore')"
   ]
  },
  {
   "cell_type": "code",
   "execution_count": 26,
   "id": "ca78a4e2",
   "metadata": {
    "execution": {
     "iopub.execute_input": "2022-05-31T00:50:53.837942Z",
     "iopub.status.busy": "2022-05-31T00:50:53.837357Z",
     "iopub.status.idle": "2022-05-31T00:50:53.845289Z",
     "shell.execute_reply": "2022-05-31T00:50:53.844251Z"
    },
    "papermill": {
     "duration": 0.070183,
     "end_time": "2022-05-31T00:50:53.847307",
     "exception": false,
     "start_time": "2022-05-31T00:50:53.777124",
     "status": "completed"
    },
    "tags": []
   },
   "outputs": [
    {
     "data": {
      "text/plain": [
       "R            45\n",
       "PG-13        12\n",
       "PG           11\n",
       "G             6\n",
       "Not Rated     1\n",
       "Approved      1\n",
       "Unrated       1\n",
       "Name: Content Rating, dtype: int64"
      ]
     },
     "execution_count": 26,
     "metadata": {},
     "output_type": "execute_result"
    }
   ],
   "source": [
    "mergeddf['Content Rating'].value_counts()"
   ]
  },
  {
   "cell_type": "code",
   "execution_count": 27,
   "id": "cbbf07b0",
   "metadata": {
    "execution": {
     "iopub.execute_input": "2022-05-31T00:50:53.971494Z",
     "iopub.status.busy": "2022-05-31T00:50:53.970924Z",
     "iopub.status.idle": "2022-05-31T00:50:53.975987Z",
     "shell.execute_reply": "2022-05-31T00:50:53.975420Z"
    },
    "papermill": {
     "duration": 0.070554,
     "end_time": "2022-05-31T00:50:53.978113",
     "exception": false,
     "start_time": "2022-05-31T00:50:53.907559",
     "status": "completed"
    },
    "tags": []
   },
   "outputs": [],
   "source": [
    "#The content ratings 'Not rated' and 'unrated' means the same\n",
    "mergeddf['Content Rating'].replace(to_replace='Not Rated',value='Unrated',inplace=True)"
   ]
  },
  {
   "cell_type": "code",
   "execution_count": 28,
   "id": "9f0a1101",
   "metadata": {
    "execution": {
     "iopub.execute_input": "2022-05-31T00:50:54.100856Z",
     "iopub.status.busy": "2022-05-31T00:50:54.100301Z",
     "iopub.status.idle": "2022-05-31T00:50:54.108515Z",
     "shell.execute_reply": "2022-05-31T00:50:54.107679Z"
    },
    "papermill": {
     "duration": 0.071516,
     "end_time": "2022-05-31T00:50:54.110508",
     "exception": false,
     "start_time": "2022-05-31T00:50:54.038992",
     "status": "completed"
    },
    "tags": []
   },
   "outputs": [
    {
     "data": {
      "text/plain": [
       "Christopher Nolan                  6\n",
       "Stanley Kubrick                    5\n",
       "Alfred Hitchcock                   4\n",
       "Quentin Tarantino                  4\n",
       "Sergio Leone                       4\n",
       "                                  ..\n",
       "Isao Takahata                      1\n",
       "Giuseppe Tornatore                 1\n",
       "Lana Wachowski, Lilly Wachowski    1\n",
       "Andrew Stanton                     1\n",
       "Stanley Donen                      1\n",
       "Name: Director, Length: 64, dtype: int64"
      ]
     },
     "execution_count": 28,
     "metadata": {},
     "output_type": "execute_result"
    }
   ],
   "source": [
    "mergeddf['Director'].value_counts()"
   ]
  },
  {
   "cell_type": "code",
   "execution_count": 29,
   "id": "2e6b5487",
   "metadata": {
    "execution": {
     "iopub.execute_input": "2022-05-31T00:50:54.232201Z",
     "iopub.status.busy": "2022-05-31T00:50:54.231634Z",
     "iopub.status.idle": "2022-05-31T00:50:54.261341Z",
     "shell.execute_reply": "2022-05-31T00:50:54.260790Z"
    },
    "papermill": {
     "duration": 0.093133,
     "end_time": "2022-05-31T00:50:54.263496",
     "exception": false,
     "start_time": "2022-05-31T00:50:54.170363",
     "status": "completed"
    },
    "tags": []
   },
   "outputs": [
    {
     "data": {
      "text/html": [
       "<div>\n",
       "<style scoped>\n",
       "    .dataframe tbody tr th:only-of-type {\n",
       "        vertical-align: middle;\n",
       "    }\n",
       "\n",
       "    .dataframe tbody tr th {\n",
       "        vertical-align: top;\n",
       "    }\n",
       "\n",
       "    .dataframe thead th {\n",
       "        text-align: right;\n",
       "    }\n",
       "</style>\n",
       "<table border=\"1\" class=\"dataframe\">\n",
       "  <thead>\n",
       "    <tr style=\"text-align: right;\">\n",
       "      <th></th>\n",
       "      <th>original title</th>\n",
       "      <th>Release year</th>\n",
       "      <th>Duration</th>\n",
       "      <th>Country</th>\n",
       "      <th>Content Rating</th>\n",
       "      <th>Director</th>\n",
       "      <th>Income</th>\n",
       "      <th>Votes</th>\n",
       "      <th>Score</th>\n",
       "      <th>Action</th>\n",
       "      <th>...</th>\n",
       "      <th>Sam Mendes</th>\n",
       "      <th>Sergio Leone</th>\n",
       "      <th>Sidney Lumet</th>\n",
       "      <th>Stanley Donen</th>\n",
       "      <th>Stanley Kubrick</th>\n",
       "      <th>Steven Spielberg</th>\n",
       "      <th>Thomas Vinterberg</th>\n",
       "      <th>Todd Phillips</th>\n",
       "      <th>Tony Kaye</th>\n",
       "      <th>Wolfgang Petersen</th>\n",
       "    </tr>\n",
       "  </thead>\n",
       "  <tbody>\n",
       "    <tr>\n",
       "      <th>0</th>\n",
       "      <td>The Shawshank Redemption</td>\n",
       "      <td>1995-02-10</td>\n",
       "      <td>142</td>\n",
       "      <td>USA</td>\n",
       "      <td>R</td>\n",
       "      <td>Frank Darabont</td>\n",
       "      <td>$ 28815245</td>\n",
       "      <td>2.278.845</td>\n",
       "      <td>9.3</td>\n",
       "      <td>0</td>\n",
       "      <td>...</td>\n",
       "      <td>0</td>\n",
       "      <td>0</td>\n",
       "      <td>0</td>\n",
       "      <td>0</td>\n",
       "      <td>0</td>\n",
       "      <td>0</td>\n",
       "      <td>0</td>\n",
       "      <td>0</td>\n",
       "      <td>0</td>\n",
       "      <td>0</td>\n",
       "    </tr>\n",
       "    <tr>\n",
       "      <th>1</th>\n",
       "      <td>The Godfather</td>\n",
       "      <td>1972-09-21</td>\n",
       "      <td>175</td>\n",
       "      <td>USA</td>\n",
       "      <td>R</td>\n",
       "      <td>Francis Ford Coppola</td>\n",
       "      <td>$ 246120974</td>\n",
       "      <td>1.572.674</td>\n",
       "      <td>9.2</td>\n",
       "      <td>0</td>\n",
       "      <td>...</td>\n",
       "      <td>0</td>\n",
       "      <td>0</td>\n",
       "      <td>0</td>\n",
       "      <td>0</td>\n",
       "      <td>0</td>\n",
       "      <td>0</td>\n",
       "      <td>0</td>\n",
       "      <td>0</td>\n",
       "      <td>0</td>\n",
       "      <td>0</td>\n",
       "    </tr>\n",
       "    <tr>\n",
       "      <th>2</th>\n",
       "      <td>The Dark Knight</td>\n",
       "      <td>2008-07-23</td>\n",
       "      <td>152</td>\n",
       "      <td>USA</td>\n",
       "      <td>PG-13</td>\n",
       "      <td>Christopher Nolan</td>\n",
       "      <td>$ 1005455211</td>\n",
       "      <td>2.241.615</td>\n",
       "      <td>9.</td>\n",
       "      <td>1</td>\n",
       "      <td>...</td>\n",
       "      <td>0</td>\n",
       "      <td>0</td>\n",
       "      <td>0</td>\n",
       "      <td>0</td>\n",
       "      <td>0</td>\n",
       "      <td>0</td>\n",
       "      <td>0</td>\n",
       "      <td>0</td>\n",
       "      <td>0</td>\n",
       "      <td>0</td>\n",
       "    </tr>\n",
       "    <tr>\n",
       "      <th>3</th>\n",
       "      <td>The Godfather: Part II</td>\n",
       "      <td>1975-09-25</td>\n",
       "      <td>220</td>\n",
       "      <td>USA</td>\n",
       "      <td>R</td>\n",
       "      <td>Francis Ford Coppola</td>\n",
       "      <td>$ 4o8,035,783</td>\n",
       "      <td>1.098.714</td>\n",
       "      <td>9,.0</td>\n",
       "      <td>0</td>\n",
       "      <td>...</td>\n",
       "      <td>0</td>\n",
       "      <td>0</td>\n",
       "      <td>0</td>\n",
       "      <td>0</td>\n",
       "      <td>0</td>\n",
       "      <td>0</td>\n",
       "      <td>0</td>\n",
       "      <td>0</td>\n",
       "      <td>0</td>\n",
       "      <td>0</td>\n",
       "    </tr>\n",
       "    <tr>\n",
       "      <th>4</th>\n",
       "      <td>Pulp Fiction</td>\n",
       "      <td>1994-10-28</td>\n",
       "      <td></td>\n",
       "      <td>USA</td>\n",
       "      <td>R</td>\n",
       "      <td>Quentin Tarantino</td>\n",
       "      <td>$ 222831817</td>\n",
       "      <td>1.780.147</td>\n",
       "      <td>8,9f</td>\n",
       "      <td>0</td>\n",
       "      <td>...</td>\n",
       "      <td>0</td>\n",
       "      <td>0</td>\n",
       "      <td>0</td>\n",
       "      <td>0</td>\n",
       "      <td>0</td>\n",
       "      <td>0</td>\n",
       "      <td>0</td>\n",
       "      <td>0</td>\n",
       "      <td>0</td>\n",
       "      <td>0</td>\n",
       "    </tr>\n",
       "    <tr>\n",
       "      <th>...</th>\n",
       "      <td>...</td>\n",
       "      <td>...</td>\n",
       "      <td>...</td>\n",
       "      <td>...</td>\n",
       "      <td>...</td>\n",
       "      <td>...</td>\n",
       "      <td>...</td>\n",
       "      <td>...</td>\n",
       "      <td>...</td>\n",
       "      <td>...</td>\n",
       "      <td>...</td>\n",
       "      <td>...</td>\n",
       "      <td>...</td>\n",
       "      <td>...</td>\n",
       "      <td>...</td>\n",
       "      <td>...</td>\n",
       "      <td>...</td>\n",
       "      <td>...</td>\n",
       "      <td>...</td>\n",
       "      <td>...</td>\n",
       "      <td>...</td>\n",
       "    </tr>\n",
       "    <tr>\n",
       "      <th>96</th>\n",
       "      <td>The Sting</td>\n",
       "      <td>1974-03-21</td>\n",
       "      <td>129</td>\n",
       "      <td>USA</td>\n",
       "      <td>PG</td>\n",
       "      <td>George Roy Hill</td>\n",
       "      <td>$ 156000000</td>\n",
       "      <td>236.285</td>\n",
       "      <td>7.5</td>\n",
       "      <td>0</td>\n",
       "      <td>...</td>\n",
       "      <td>0</td>\n",
       "      <td>0</td>\n",
       "      <td>0</td>\n",
       "      <td>0</td>\n",
       "      <td>0</td>\n",
       "      <td>0</td>\n",
       "      <td>0</td>\n",
       "      <td>0</td>\n",
       "      <td>0</td>\n",
       "      <td>0</td>\n",
       "    </tr>\n",
       "    <tr>\n",
       "      <th>97</th>\n",
       "      <td>Das Boot</td>\n",
       "      <td>1982-03-18</td>\n",
       "      <td>149</td>\n",
       "      <td>Germany</td>\n",
       "      <td>R</td>\n",
       "      <td>Wolfgang Petersen</td>\n",
       "      <td>$ 11487676</td>\n",
       "      <td>226.427</td>\n",
       "      <td>7.5</td>\n",
       "      <td>0</td>\n",
       "      <td>...</td>\n",
       "      <td>0</td>\n",
       "      <td>0</td>\n",
       "      <td>0</td>\n",
       "      <td>0</td>\n",
       "      <td>0</td>\n",
       "      <td>0</td>\n",
       "      <td>0</td>\n",
       "      <td>0</td>\n",
       "      <td>0</td>\n",
       "      <td>1</td>\n",
       "    </tr>\n",
       "    <tr>\n",
       "      <th>98</th>\n",
       "      <td>Per qualche dollaro in piÃ¹</td>\n",
       "      <td>1965-12-20</td>\n",
       "      <td>132</td>\n",
       "      <td>Italy</td>\n",
       "      <td>NaN</td>\n",
       "      <td>Sergio Leone</td>\n",
       "      <td>$ 15000000</td>\n",
       "      <td>226.039</td>\n",
       "      <td>7.4</td>\n",
       "      <td>0</td>\n",
       "      <td>...</td>\n",
       "      <td>0</td>\n",
       "      <td>1</td>\n",
       "      <td>0</td>\n",
       "      <td>0</td>\n",
       "      <td>0</td>\n",
       "      <td>0</td>\n",
       "      <td>0</td>\n",
       "      <td>0</td>\n",
       "      <td>0</td>\n",
       "      <td>0</td>\n",
       "    </tr>\n",
       "    <tr>\n",
       "      <th>99</th>\n",
       "      <td>Jodaeiye Nader az Simin</td>\n",
       "      <td>2011-10-21</td>\n",
       "      <td>123</td>\n",
       "      <td>Iran</td>\n",
       "      <td>PG-13</td>\n",
       "      <td>Asghar Farhadi</td>\n",
       "      <td>$ 22926076</td>\n",
       "      <td>214.165</td>\n",
       "      <td>7.4</td>\n",
       "      <td>0</td>\n",
       "      <td>...</td>\n",
       "      <td>0</td>\n",
       "      <td>0</td>\n",
       "      <td>0</td>\n",
       "      <td>0</td>\n",
       "      <td>0</td>\n",
       "      <td>0</td>\n",
       "      <td>0</td>\n",
       "      <td>0</td>\n",
       "      <td>0</td>\n",
       "      <td>0</td>\n",
       "    </tr>\n",
       "    <tr>\n",
       "      <th>100</th>\n",
       "      <td>Singin' in the Rain</td>\n",
       "      <td>1953-02-05</td>\n",
       "      <td>103</td>\n",
       "      <td>USA</td>\n",
       "      <td>NaN</td>\n",
       "      <td>Stanley Donen</td>\n",
       "      <td>$ 1864182</td>\n",
       "      <td>213.152</td>\n",
       "      <td>7.4</td>\n",
       "      <td>0</td>\n",
       "      <td>...</td>\n",
       "      <td>0</td>\n",
       "      <td>0</td>\n",
       "      <td>0</td>\n",
       "      <td>1</td>\n",
       "      <td>0</td>\n",
       "      <td>0</td>\n",
       "      <td>0</td>\n",
       "      <td>0</td>\n",
       "      <td>0</td>\n",
       "      <td>0</td>\n",
       "    </tr>\n",
       "  </tbody>\n",
       "</table>\n",
       "<p>101 rows × 94 columns</p>\n",
       "</div>"
      ],
      "text/plain": [
       "                  original title Release year Duration  Country  \\\n",
       "0       The Shawshank Redemption   1995-02-10      142      USA   \n",
       "1                  The Godfather   1972-09-21      175      USA   \n",
       "2                The Dark Knight   2008-07-23      152      USA   \n",
       "3         The Godfather: Part II   1975-09-25      220      USA   \n",
       "4                   Pulp Fiction   1994-10-28               USA   \n",
       "..                           ...          ...      ...      ...   \n",
       "96                     The Sting   1974-03-21      129      USA   \n",
       "97                      Das Boot   1982-03-18      149  Germany   \n",
       "98   Per qualche dollaro in piÃ¹   1965-12-20      132    Italy   \n",
       "99       Jodaeiye Nader az Simin   2011-10-21      123     Iran   \n",
       "100          Singin' in the Rain   1953-02-05      103      USA   \n",
       "\n",
       "    Content Rating              Director         Income      Votes Score  \\\n",
       "0                R        Frank Darabont     $ 28815245  2.278.845   9.3   \n",
       "1                R  Francis Ford Coppola    $ 246120974  1.572.674   9.2   \n",
       "2            PG-13     Christopher Nolan   $ 1005455211  2.241.615    9.   \n",
       "3                R  Francis Ford Coppola  $ 4o8,035,783  1.098.714  9,.0   \n",
       "4                R     Quentin Tarantino    $ 222831817  1.780.147  8,9f   \n",
       "..             ...                   ...            ...        ...   ...   \n",
       "96              PG       George Roy Hill    $ 156000000    236.285   7.5   \n",
       "97               R     Wolfgang Petersen     $ 11487676    226.427   7.5   \n",
       "98             NaN          Sergio Leone     $ 15000000    226.039   7.4   \n",
       "99           PG-13        Asghar Farhadi     $ 22926076    214.165   7.4   \n",
       "100            NaN         Stanley Donen      $ 1864182    213.152   7.4   \n",
       "\n",
       "     Action  ...  Sam Mendes  Sergio Leone  Sidney Lumet  Stanley Donen  \\\n",
       "0         0  ...           0             0             0              0   \n",
       "1         0  ...           0             0             0              0   \n",
       "2         1  ...           0             0             0              0   \n",
       "3         0  ...           0             0             0              0   \n",
       "4         0  ...           0             0             0              0   \n",
       "..      ...  ...         ...           ...           ...            ...   \n",
       "96        0  ...           0             0             0              0   \n",
       "97        0  ...           0             0             0              0   \n",
       "98        0  ...           0             1             0              0   \n",
       "99        0  ...           0             0             0              0   \n",
       "100       0  ...           0             0             0              1   \n",
       "\n",
       "     Stanley Kubrick  Steven Spielberg  Thomas Vinterberg  Todd Phillips  \\\n",
       "0                  0                 0                  0              0   \n",
       "1                  0                 0                  0              0   \n",
       "2                  0                 0                  0              0   \n",
       "3                  0                 0                  0              0   \n",
       "4                  0                 0                  0              0   \n",
       "..               ...               ...                ...            ...   \n",
       "96                 0                 0                  0              0   \n",
       "97                 0                 0                  0              0   \n",
       "98                 0                 0                  0              0   \n",
       "99                 0                 0                  0              0   \n",
       "100                0                 0                  0              0   \n",
       "\n",
       "     Tony Kaye  Wolfgang Petersen  \n",
       "0            0                  0  \n",
       "1            0                  0  \n",
       "2            0                  0  \n",
       "3            0                  0  \n",
       "4            0                  0  \n",
       "..         ...                ...  \n",
       "96           0                  0  \n",
       "97           0                  1  \n",
       "98           0                  0  \n",
       "99           0                  0  \n",
       "100          0                  0  \n",
       "\n",
       "[101 rows x 94 columns]"
      ]
     },
     "execution_count": 29,
     "metadata": {},
     "output_type": "execute_result"
    }
   ],
   "source": [
    "#Director attribute can have more than 1 director entry per record, so one hot encoding it\n",
    "directorsDf = mergeddf['Director'].str.get_dummies()\n",
    "pd.concat([mergeddf,directorsDf],axis=1)"
   ]
  },
  {
   "cell_type": "code",
   "execution_count": 30,
   "id": "2cda9b6b",
   "metadata": {
    "execution": {
     "iopub.execute_input": "2022-05-31T00:50:54.386674Z",
     "iopub.status.busy": "2022-05-31T00:50:54.386393Z",
     "iopub.status.idle": "2022-05-31T00:50:54.392679Z",
     "shell.execute_reply": "2022-05-31T00:50:54.392001Z"
    },
    "papermill": {
     "duration": 0.070126,
     "end_time": "2022-05-31T00:50:54.394375",
     "exception": false,
     "start_time": "2022-05-31T00:50:54.324249",
     "status": "completed"
    },
    "tags": []
   },
   "outputs": [
    {
     "data": {
      "text/plain": [
       "array(['2.278.845', '1.572.674', '2.241.615', '1.098.714', '1.780.147',\n",
       "       '1.604.280', '1.183.248', '668.473', '2.002.816', '1.807.440',\n",
       "       '1.755.490', '1.619.920', '672.499', nan, '1.632.315', '1.449.778',\n",
       "       '1.132.073', '991.505', '891.071', '1.449.256', '1.402.015',\n",
       "       '1.234.134', '1.204.107', '1.203.825', '1.112.336', '685.856',\n",
       "       '626.693', '605.648', '470.931', '388.310', '307.958', '1.308.193',\n",
       "       '1.159.703', '1.155.723', '1.027.330', '1.014.218', '1.007.598',\n",
       "       '974.970', '968.947', '917.248', '855.097', '736.691', '707.942',\n",
       "       '690.732', '586.765', '509.953', '295.220', '225.438', '223.050',\n",
       "       '211.250', '1.480.582', '1.317.856', '1.098.879', '974.734',\n",
       "       '869.480', '865.510', '796.486', '768.874', '754.786', '591.251',\n",
       "       '501.082', '441.115', '432.390', '352.455', '349.642', '335.892',\n",
       "       '332.217', '331.045', '302.317', '197.381', '195.789', '1.229.958',\n",
       "       '1.049.009', '941.683', '928.036', '896.551', '889.875', '864.461',\n",
       "       '837.379', '766.589', '748.291', '740.301', '739.717', '721.343',\n",
       "       '703.264', '690.480', '658.175', '639.500', '587.866', '389.322',\n",
       "       '362.897', '361.028', '352.786', '291.628', '269.616', '261.504',\n",
       "       '236.285', '226.427', '226.039', '214.165', '213.152'],\n",
       "      dtype=object)"
      ]
     },
     "execution_count": 30,
     "metadata": {},
     "output_type": "execute_result"
    }
   ],
   "source": [
    "mergeddf.Votes.unique()"
   ]
  },
  {
   "cell_type": "markdown",
   "id": "f6857463",
   "metadata": {
    "papermill": {
     "duration": 0.061186,
     "end_time": "2022-05-31T00:50:54.520228",
     "exception": false,
     "start_time": "2022-05-31T00:50:54.459042",
     "status": "completed"
    },
    "tags": []
   },
   "source": [
    "The votes are expressed in notation of million.thousands.hundreds, we need to remove the seperators in between to get numerical counts"
   ]
  },
  {
   "cell_type": "code",
   "execution_count": 31,
   "id": "5d41802c",
   "metadata": {
    "execution": {
     "iopub.execute_input": "2022-05-31T00:50:54.645390Z",
     "iopub.status.busy": "2022-05-31T00:50:54.644545Z",
     "iopub.status.idle": "2022-05-31T00:50:54.651299Z",
     "shell.execute_reply": "2022-05-31T00:50:54.650383Z"
    },
    "papermill": {
     "duration": 0.071111,
     "end_time": "2022-05-31T00:50:54.653263",
     "exception": false,
     "start_time": "2022-05-31T00:50:54.582152",
     "status": "completed"
    },
    "tags": []
   },
   "outputs": [
    {
     "name": "stderr",
     "output_type": "stream",
     "text": [
      "/opt/conda/lib/python3.7/site-packages/ipykernel_launcher.py:1: FutureWarning: The default value of regex will change from True to False in a future version. In addition, single character regular expressions will *not* be treated as literal strings when regex=True.\n",
      "  \"\"\"Entry point for launching an IPython kernel.\n"
     ]
    }
   ],
   "source": [
    "mergeddf.Votes=mergeddf.Votes.str.replace('.',\"\")\n"
   ]
  },
  {
   "cell_type": "code",
   "execution_count": 32,
   "id": "73466b3d",
   "metadata": {
    "execution": {
     "iopub.execute_input": "2022-05-31T00:50:54.778240Z",
     "iopub.status.busy": "2022-05-31T00:50:54.777910Z",
     "iopub.status.idle": "2022-05-31T00:50:54.786418Z",
     "shell.execute_reply": "2022-05-31T00:50:54.785780Z"
    },
    "papermill": {
     "duration": 0.073436,
     "end_time": "2022-05-31T00:50:54.788413",
     "exception": false,
     "start_time": "2022-05-31T00:50:54.714977",
     "status": "completed"
    },
    "tags": []
   },
   "outputs": [
    {
     "data": {
      "text/plain": [
       "1"
      ]
     },
     "execution_count": 32,
     "metadata": {},
     "output_type": "execute_result"
    }
   ],
   "source": [
    "mergeddf.Votes.isnull().sum()"
   ]
  },
  {
   "cell_type": "code",
   "execution_count": 33,
   "id": "724fa2f5",
   "metadata": {
    "execution": {
     "iopub.execute_input": "2022-05-31T00:50:54.918138Z",
     "iopub.status.busy": "2022-05-31T00:50:54.917356Z",
     "iopub.status.idle": "2022-05-31T00:50:54.922366Z",
     "shell.execute_reply": "2022-05-31T00:50:54.921799Z"
    },
    "papermill": {
     "duration": 0.071928,
     "end_time": "2022-05-31T00:50:54.924244",
     "exception": false,
     "start_time": "2022-05-31T00:50:54.852316",
     "status": "completed"
    },
    "tags": []
   },
   "outputs": [],
   "source": [
    "mergeddf.Votes.fillna(0,inplace=True)"
   ]
  },
  {
   "cell_type": "code",
   "execution_count": 34,
   "id": "0c72121c",
   "metadata": {
    "execution": {
     "iopub.execute_input": "2022-05-31T00:50:55.050074Z",
     "iopub.status.busy": "2022-05-31T00:50:55.049321Z",
     "iopub.status.idle": "2022-05-31T00:50:55.057017Z",
     "shell.execute_reply": "2022-05-31T00:50:55.056239Z"
    },
    "papermill": {
     "duration": 0.072567,
     "end_time": "2022-05-31T00:50:55.058907",
     "exception": false,
     "start_time": "2022-05-31T00:50:54.986340",
     "status": "completed"
    },
    "tags": []
   },
   "outputs": [
    {
     "data": {
      "text/plain": [
       "0      2278845\n",
       "1      1572674\n",
       "2      2241615\n",
       "3      1098714\n",
       "4      1780147\n",
       "        ...   \n",
       "96      236285\n",
       "97      226427\n",
       "98      226039\n",
       "99      214165\n",
       "100     213152\n",
       "Name: Votes, Length: 101, dtype: int64"
      ]
     },
     "execution_count": 34,
     "metadata": {},
     "output_type": "execute_result"
    }
   ],
   "source": [
    "mergeddf.Votes.astype('int')"
   ]
  },
  {
   "cell_type": "code",
   "execution_count": 35,
   "id": "5395cef7",
   "metadata": {
    "execution": {
     "iopub.execute_input": "2022-05-31T00:50:55.185196Z",
     "iopub.status.busy": "2022-05-31T00:50:55.184639Z",
     "iopub.status.idle": "2022-05-31T00:50:55.191035Z",
     "shell.execute_reply": "2022-05-31T00:50:55.190384Z"
    },
    "papermill": {
     "duration": 0.071604,
     "end_time": "2022-05-31T00:50:55.192826",
     "exception": false,
     "start_time": "2022-05-31T00:50:55.121222",
     "status": "completed"
    },
    "tags": []
   },
   "outputs": [
    {
     "data": {
      "text/plain": [
       "array(['$ 28815245', '$ 246120974', '$ 1005455211', '$ 4o8,035,783',\n",
       "       '$ 222831817', '$ 1142271098', '$ 322287794', '$ 576',\n",
       "       '$ 869784991', '$ 101218804', '$ 678229452', '$ 887934303',\n",
       "       '$ 25252481', nan, '$ 465718588', '$ 951227416', '$ 549265501',\n",
       "       '$ 46879633', '$ 108997629', '$ 696742056', '$ 327333559',\n",
       "       '$ 272753884', '$ 775768912', '$ 482349603', '$ 286801374',\n",
       "       '$ 30680793', '$ 355467056', '$ 230098753', '$ 257604912',\n",
       "       '$ 6130720', '$ 322773', '$ 465361176', '$ 291465034',\n",
       "       '$ 109676311', '$ 388774684', '$ 23875127', '$ 19552639',\n",
       "       '$ 520884847', '$ 23341568', '$ 968511805', '$ 1074251311',\n",
       "       '$ 426588510', '$ 120072577', '$ 48983260', '$ 32008644',\n",
       "       '$ 4374761', '$ 112911', '$ 516962', '$ 13826605', '$ 457688',\n",
       "       '$ 1081133191', '$ 425368238', '$ 39970386', '$ 521311860',\n",
       "       '$ 46520613', '$ 390133212', '$ 2048359754', '$ 108110316',\n",
       "       '$ 2797800564', '$ 91968688', '$ 15002116', '$ 9443876',\n",
       "       '$ 37032034', '$ 807083670', '$ 77356942', '$ 375540831',\n",
       "       '$ 60262836', '$ 169785629', '$ 5472914', '$ 969879', '$ 299645',\n",
       "       '$ 321455689', '$ 356296601', '$ 213216216', '$ 475347111',\n",
       "       '$ 2889963', '$ 74036715', '$ 404265438', '$ 225933435',\n",
       "       '$ 83557872', '$ 7390108', '$ 26903440', '$ 1066969703',\n",
       "       '$ 66023585', '$ 28441292', '$ 173924742', '$ 46357676',\n",
       "       '$ 131384634', '$ 68989547', '$ 1594107', '$ 384857224',\n",
       "       '$ 52066791', '$ 7796389', '$ 73446', '$ 15843274', '$ 45710874',\n",
       "       '$ 156000000', '$ 11487676', '$ 15000000', '$ 22926076',\n",
       "       '$ 1864182'], dtype=object)"
      ]
     },
     "execution_count": 35,
     "metadata": {},
     "output_type": "execute_result"
    }
   ],
   "source": [
    "mergeddf.Income.unique()"
   ]
  },
  {
   "cell_type": "code",
   "execution_count": 36,
   "id": "168ca931",
   "metadata": {
    "execution": {
     "iopub.execute_input": "2022-05-31T00:50:55.322250Z",
     "iopub.status.busy": "2022-05-31T00:50:55.321665Z",
     "iopub.status.idle": "2022-05-31T00:50:55.327402Z",
     "shell.execute_reply": "2022-05-31T00:50:55.326879Z"
    },
    "papermill": {
     "duration": 0.071717,
     "end_time": "2022-05-31T00:50:55.329100",
     "exception": false,
     "start_time": "2022-05-31T00:50:55.257383",
     "status": "completed"
    },
    "tags": []
   },
   "outputs": [],
   "source": [
    "#Removing special symbols from Income attribute and correcting some errors like 'o' instead of 0.\n",
    "mergeddf.Income=mergeddf.Income.map(lambda income:re.sub('[^0-9o]',\"\",income),na_action='ignore')\n",
    "mergeddf.Income = mergeddf.Income.str.replace('o','0')"
   ]
  },
  {
   "cell_type": "code",
   "execution_count": 37,
   "id": "306c15c9",
   "metadata": {
    "execution": {
     "iopub.execute_input": "2022-05-31T00:50:55.455943Z",
     "iopub.status.busy": "2022-05-31T00:50:55.455177Z",
     "iopub.status.idle": "2022-05-31T00:50:55.460561Z",
     "shell.execute_reply": "2022-05-31T00:50:55.459873Z"
    },
    "papermill": {
     "duration": 0.071045,
     "end_time": "2022-05-31T00:50:55.462321",
     "exception": false,
     "start_time": "2022-05-31T00:50:55.391276",
     "status": "completed"
    },
    "tags": []
   },
   "outputs": [
    {
     "data": {
      "text/plain": [
       "array(['9.3', '9.2', '9.', '9,.0', '8,9f', '08.9', '8.9', '8..8', '8.8',\n",
       "       '8:8', nan, '++8.7', '8.7.', '8,7e-0', '8.7', '8.6', '8,6', '8.5',\n",
       "       '8.4', '8.3', '8.2', '8.1', '8.0', '7.9', '7.8', '7.7', '7.6',\n",
       "       '7.5', '7.4'], dtype=object)"
      ]
     },
     "execution_count": 37,
     "metadata": {},
     "output_type": "execute_result"
    }
   ],
   "source": [
    "mergeddf.Score.unique()"
   ]
  },
  {
   "cell_type": "code",
   "execution_count": 38,
   "id": "119c8455",
   "metadata": {
    "execution": {
     "iopub.execute_input": "2022-05-31T00:50:55.590539Z",
     "iopub.status.busy": "2022-05-31T00:50:55.590274Z",
     "iopub.status.idle": "2022-05-31T00:50:55.595432Z",
     "shell.execute_reply": "2022-05-31T00:50:55.594570Z"
    },
    "papermill": {
     "duration": 0.071833,
     "end_time": "2022-05-31T00:50:55.597357",
     "exception": false,
     "start_time": "2022-05-31T00:50:55.525524",
     "status": "completed"
    },
    "tags": []
   },
   "outputs": [],
   "source": [
    "mergeddf.Score = mergeddf.Score.map(lambda score:re.sub('[^\\d]',\"\",score),na_action='ignore')"
   ]
  },
  {
   "cell_type": "code",
   "execution_count": null,
   "id": "eb6aee1c",
   "metadata": {
    "papermill": {
     "duration": 0.063483,
     "end_time": "2022-05-31T00:50:55.724587",
     "exception": false,
     "start_time": "2022-05-31T00:50:55.661104",
     "status": "completed"
    },
    "tags": []
   },
   "outputs": [],
   "source": []
  },
  {
   "cell_type": "code",
   "execution_count": 39,
   "id": "db1d6985",
   "metadata": {
    "execution": {
     "iopub.execute_input": "2022-05-31T00:50:55.856454Z",
     "iopub.status.busy": "2022-05-31T00:50:55.855660Z",
     "iopub.status.idle": "2022-05-31T00:50:55.861195Z",
     "shell.execute_reply": "2022-05-31T00:50:55.860428Z"
    },
    "papermill": {
     "duration": 0.072014,
     "end_time": "2022-05-31T00:50:55.862976",
     "exception": false,
     "start_time": "2022-05-31T00:50:55.790962",
     "status": "completed"
    },
    "tags": []
   },
   "outputs": [
    {
     "data": {
      "text/plain": [
       "array(['93', '92', '9', '90', '89', '089', '88', nan, '87', '870', '86',\n",
       "       '85', '84', '83', '82', '81', '80', '79', '78', '77', '76', '75',\n",
       "       '74'], dtype=object)"
      ]
     },
     "execution_count": 39,
     "metadata": {},
     "output_type": "execute_result"
    }
   ],
   "source": [
    "mergeddf.Score.unique()"
   ]
  },
  {
   "cell_type": "code",
   "execution_count": 40,
   "id": "b02f6275",
   "metadata": {
    "execution": {
     "iopub.execute_input": "2022-05-31T00:50:55.992350Z",
     "iopub.status.busy": "2022-05-31T00:50:55.991955Z",
     "iopub.status.idle": "2022-05-31T00:50:55.997249Z",
     "shell.execute_reply": "2022-05-31T00:50:55.996748Z"
    },
    "papermill": {
     "duration": 0.071962,
     "end_time": "2022-05-31T00:50:55.999058",
     "exception": false,
     "start_time": "2022-05-31T00:50:55.927096",
     "status": "completed"
    },
    "tags": []
   },
   "outputs": [],
   "source": [
    "def cleanScores(score):\n",
    "    score = str(score)\n",
    "    if score.startswith('0'):\n",
    "        score=score[1:]\n",
    "       \n",
    "    return score[0] + '.' + score[1:]\n",
    "\n",
    "mergeddf.Score= mergeddf.Score.map(lambda score: cleanScores(score),na_action='ignore')"
   ]
  },
  {
   "cell_type": "code",
   "execution_count": 41,
   "id": "d2d40aeb",
   "metadata": {
    "execution": {
     "iopub.execute_input": "2022-05-31T00:50:56.128218Z",
     "iopub.status.busy": "2022-05-31T00:50:56.127829Z",
     "iopub.status.idle": "2022-05-31T00:50:56.132652Z",
     "shell.execute_reply": "2022-05-31T00:50:56.131989Z"
    },
    "papermill": {
     "duration": 0.07183,
     "end_time": "2022-05-31T00:50:56.134403",
     "exception": false,
     "start_time": "2022-05-31T00:50:56.062573",
     "status": "completed"
    },
    "tags": []
   },
   "outputs": [
    {
     "data": {
      "text/plain": [
       "array(['9.3', '9.2', '9.', '9.0', '8.9', '8.8', nan, '8.7', '8.70', '8.6',\n",
       "       '8.5', '8.4', '8.3', '8.2', '8.1', '8.0', '7.9', '7.8', '7.7',\n",
       "       '7.6', '7.5', '7.4'], dtype=object)"
      ]
     },
     "execution_count": 41,
     "metadata": {},
     "output_type": "execute_result"
    }
   ],
   "source": [
    "mergeddf.Score.unique()"
   ]
  },
  {
   "cell_type": "code",
   "execution_count": 42,
   "id": "0283e960",
   "metadata": {
    "execution": {
     "iopub.execute_input": "2022-05-31T00:50:56.264410Z",
     "iopub.status.busy": "2022-05-31T00:50:56.264032Z",
     "iopub.status.idle": "2022-05-31T00:50:56.267766Z",
     "shell.execute_reply": "2022-05-31T00:50:56.267243Z"
    },
    "papermill": {
     "duration": 0.071016,
     "end_time": "2022-05-31T00:50:56.269448",
     "exception": false,
     "start_time": "2022-05-31T00:50:56.198432",
     "status": "completed"
    },
    "tags": []
   },
   "outputs": [],
   "source": [
    "mergeddf.Score.fillna(0,inplace=True)"
   ]
  },
  {
   "cell_type": "code",
   "execution_count": 43,
   "id": "7bbfe16f",
   "metadata": {
    "execution": {
     "iopub.execute_input": "2022-05-31T00:50:56.398152Z",
     "iopub.status.busy": "2022-05-31T00:50:56.397766Z",
     "iopub.status.idle": "2022-05-31T00:50:56.404217Z",
     "shell.execute_reply": "2022-05-31T00:50:56.403677Z"
    },
    "papermill": {
     "duration": 0.072843,
     "end_time": "2022-05-31T00:50:56.405893",
     "exception": false,
     "start_time": "2022-05-31T00:50:56.333050",
     "status": "completed"
    },
    "tags": []
   },
   "outputs": [
    {
     "data": {
      "text/plain": [
       "0      9.3\n",
       "1      9.2\n",
       "2      9.0\n",
       "3      9.0\n",
       "4      8.9\n",
       "      ... \n",
       "96     7.5\n",
       "97     7.5\n",
       "98     7.4\n",
       "99     7.4\n",
       "100    7.4\n",
       "Name: Score, Length: 101, dtype: float64"
      ]
     },
     "execution_count": 43,
     "metadata": {},
     "output_type": "execute_result"
    }
   ],
   "source": [
    "mergeddf.Score.astype('float')"
   ]
  },
  {
   "cell_type": "code",
   "execution_count": null,
   "id": "c1240095",
   "metadata": {
    "papermill": {
     "duration": 0.064083,
     "end_time": "2022-05-31T00:50:56.538305",
     "exception": false,
     "start_time": "2022-05-31T00:50:56.474222",
     "status": "completed"
    },
    "tags": []
   },
   "outputs": [],
   "source": []
  },
  {
   "cell_type": "code",
   "execution_count": null,
   "id": "4f1a82f7",
   "metadata": {
    "papermill": {
     "duration": 0.064627,
     "end_time": "2022-05-31T00:50:56.667507",
     "exception": false,
     "start_time": "2022-05-31T00:50:56.602880",
     "status": "completed"
    },
    "tags": []
   },
   "outputs": [],
   "source": []
  },
  {
   "cell_type": "code",
   "execution_count": null,
   "id": "101bf65d",
   "metadata": {
    "papermill": {
     "duration": 0.067984,
     "end_time": "2022-05-31T00:50:56.801127",
     "exception": false,
     "start_time": "2022-05-31T00:50:56.733143",
     "status": "completed"
    },
    "tags": []
   },
   "outputs": [],
   "source": []
  }
 ],
 "metadata": {
  "kernelspec": {
   "display_name": "Python 3",
   "language": "python",
   "name": "python3"
  },
  "language_info": {
   "codemirror_mode": {
    "name": "ipython",
    "version": 3
   },
   "file_extension": ".py",
   "mimetype": "text/x-python",
   "name": "python",
   "nbconvert_exporter": "python",
   "pygments_lexer": "ipython3",
   "version": "3.7.12"
  },
  "papermill": {
   "default_parameters": {},
   "duration": 17.862304,
   "end_time": "2022-05-31T00:50:57.485429",
   "environment_variables": {},
   "exception": null,
   "input_path": "__notebook__.ipynb",
   "output_path": "__notebook__.ipynb",
   "parameters": {},
   "start_time": "2022-05-31T00:50:39.623125",
   "version": "2.3.4"
  }
 },
 "nbformat": 4,
 "nbformat_minor": 5
}
